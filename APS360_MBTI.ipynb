{
  "cells": [
    {
      "cell_type": "markdown",
      "metadata": {
        "id": "view-in-github",
        "colab_type": "text"
      },
      "source": [
        "<a href=\"https://colab.research.google.com/github/ittakato/APS360_MBTI/blob/main/APS360_MBTI.ipynb\" target=\"_parent\"><img src=\"https://colab.research.google.com/assets/colab-badge.svg\" alt=\"Open In Colab\"/></a>"
      ]
    },
    {
      "cell_type": "markdown",
      "metadata": {
        "id": "6wAd-34IHdHi"
      },
      "source": [
        "### Data Preprocessing"
      ]
    },
    {
      "cell_type": "code",
      "source": [
        "!pip install -U torchtext==0.10.0\n",
        "import torchtext\n"
      ],
      "metadata": {
        "colab": {
          "base_uri": "https://localhost:8080/"
        },
        "id": "xTDStfO2SJOz",
        "outputId": "767f46c3-873f-42e4-d138-760bb54565a8"
      },
      "execution_count": null,
      "outputs": [
        {
          "output_type": "stream",
          "name": "stdout",
          "text": [
            "Looking in indexes: https://pypi.org/simple, https://us-python.pkg.dev/colab-wheels/public/simple/\n",
            "Collecting torchtext==0.10.0\n",
            "  Downloading torchtext-0.10.0-cp37-cp37m-manylinux1_x86_64.whl (7.6 MB)\n",
            "\u001b[K     |████████████████████████████████| 7.6 MB 5.3 MB/s \n",
            "\u001b[?25hRequirement already satisfied: tqdm in /usr/local/lib/python3.7/dist-packages (from torchtext==0.10.0) (4.64.1)\n",
            "Requirement already satisfied: requests in /usr/local/lib/python3.7/dist-packages (from torchtext==0.10.0) (2.23.0)\n",
            "Collecting torch==1.9.0\n",
            "  Downloading torch-1.9.0-cp37-cp37m-manylinux1_x86_64.whl (831.4 MB)\n",
            "\u001b[K     |████████████████████████████████| 831.4 MB 2.5 kB/s \n",
            "\u001b[?25hRequirement already satisfied: numpy in /usr/local/lib/python3.7/dist-packages (from torchtext==0.10.0) (1.21.6)\n",
            "Requirement already satisfied: typing-extensions in /usr/local/lib/python3.7/dist-packages (from torch==1.9.0->torchtext==0.10.0) (4.1.1)\n",
            "Requirement already satisfied: chardet<4,>=3.0.2 in /usr/local/lib/python3.7/dist-packages (from requests->torchtext==0.10.0) (3.0.4)\n",
            "Requirement already satisfied: idna<3,>=2.5 in /usr/local/lib/python3.7/dist-packages (from requests->torchtext==0.10.0) (2.10)\n",
            "Requirement already satisfied: urllib3!=1.25.0,!=1.25.1,<1.26,>=1.21.1 in /usr/local/lib/python3.7/dist-packages (from requests->torchtext==0.10.0) (1.24.3)\n",
            "Requirement already satisfied: certifi>=2017.4.17 in /usr/local/lib/python3.7/dist-packages (from requests->torchtext==0.10.0) (2022.9.24)\n",
            "Installing collected packages: torch, torchtext\n",
            "  Attempting uninstall: torch\n",
            "    Found existing installation: torch 1.12.1+cu113\n",
            "    Uninstalling torch-1.12.1+cu113:\n",
            "      Successfully uninstalled torch-1.12.1+cu113\n",
            "  Attempting uninstall: torchtext\n",
            "    Found existing installation: torchtext 0.13.1\n",
            "    Uninstalling torchtext-0.13.1:\n",
            "      Successfully uninstalled torchtext-0.13.1\n",
            "\u001b[31mERROR: pip's dependency resolver does not currently take into account all the packages that are installed. This behaviour is the source of the following dependency conflicts.\n",
            "torchvision 0.13.1+cu113 requires torch==1.12.1, but you have torch 1.9.0 which is incompatible.\n",
            "torchaudio 0.12.1+cu113 requires torch==1.12.1, but you have torch 1.9.0 which is incompatible.\u001b[0m\n",
            "Successfully installed torch-1.9.0 torchtext-0.10.0\n"
          ]
        }
      ]
    },
    {
      "cell_type": "code",
      "execution_count": null,
      "metadata": {
        "id": "mpI584az93se"
      },
      "outputs": [],
      "source": [
        "import csv\n",
        "import torch\n",
        "import torch.nn as nn\n",
        "import torch.nn.functional as F\n",
        "import torch.optim as optim\n",
        "import torchtext\n",
        "import numpy as np\n",
        "import matplotlib.pyplot as plt\n",
        "import pandas as pd\n",
        "import seaborn as sn\n",
        "\n",
        "torch.manual_seed(0);"
      ]
    },
    {
      "cell_type": "code",
      "source": [
        "if torch.cuda.is_available():\n",
        "    device = torch.device(\"cuda\") \n",
        "else:\n",
        "    device = torch.device(\"cpu\")\n",
        "device"
      ],
      "metadata": {
        "colab": {
          "base_uri": "https://localhost:8080/"
        },
        "id": "rNBVtfX7otwb",
        "outputId": "ef1d09e1-7d6a-4122-d2d7-659f7f2cec44"
      },
      "execution_count": null,
      "outputs": [
        {
          "output_type": "execute_result",
          "data": {
            "text/plain": [
              "device(type='cpu')"
            ]
          },
          "metadata": {},
          "execution_count": 3
        }
      ]
    },
    {
      "cell_type": "code",
      "execution_count": null,
      "metadata": {
        "id": "B0V0U97P0Zox"
      },
      "outputs": [],
      "source": [
        "#START RUNNING FROM THIS CELL\n",
        "import pandas as pd"
      ]
    },
    {
      "cell_type": "code",
      "execution_count": null,
      "metadata": {
        "id": "nQ5HANnH1jJ5",
        "colab": {
          "base_uri": "https://localhost:8080/",
          "height": 229
        },
        "outputId": "1ae3af45-d5da-4a4f-d2a3-b42122d9e173"
      },
      "outputs": [
        {
          "output_type": "error",
          "ename": "ParserError",
          "evalue": "ignored",
          "traceback": [
            "\u001b[0;31m---------------------------------------------------------------------------\u001b[0m",
            "\u001b[0;31mParserError\u001b[0m                               Traceback (most recent call last)",
            "\u001b[0;32m<ipython-input-225-b35a2b240277>\u001b[0m in \u001b[0;36m<module>\u001b[0;34m\u001b[0m\n\u001b[0;32m----> 1\u001b[0;31m \u001b[0mdf\u001b[0m \u001b[0;34m=\u001b[0m \u001b[0mpd\u001b[0m\u001b[0;34m.\u001b[0m\u001b[0mread_csv\u001b[0m\u001b[0;34m(\u001b[0m\u001b[0;34m\"/content/mbti_1.csv\"\u001b[0m\u001b[0;34m)\u001b[0m\u001b[0;34m\u001b[0m\u001b[0;34m\u001b[0m\u001b[0m\n\u001b[0m",
            "\u001b[0;32m/usr/local/lib/python3.7/dist-packages/pandas/util/_decorators.py\u001b[0m in \u001b[0;36mwrapper\u001b[0;34m(*args, **kwargs)\u001b[0m\n\u001b[1;32m    309\u001b[0m                     \u001b[0mstacklevel\u001b[0m\u001b[0;34m=\u001b[0m\u001b[0mstacklevel\u001b[0m\u001b[0;34m,\u001b[0m\u001b[0;34m\u001b[0m\u001b[0;34m\u001b[0m\u001b[0m\n\u001b[1;32m    310\u001b[0m                 )\n\u001b[0;32m--> 311\u001b[0;31m             \u001b[0;32mreturn\u001b[0m \u001b[0mfunc\u001b[0m\u001b[0;34m(\u001b[0m\u001b[0;34m*\u001b[0m\u001b[0margs\u001b[0m\u001b[0;34m,\u001b[0m \u001b[0;34m**\u001b[0m\u001b[0mkwargs\u001b[0m\u001b[0;34m)\u001b[0m\u001b[0;34m\u001b[0m\u001b[0;34m\u001b[0m\u001b[0m\n\u001b[0m\u001b[1;32m    312\u001b[0m \u001b[0;34m\u001b[0m\u001b[0m\n\u001b[1;32m    313\u001b[0m         \u001b[0;32mreturn\u001b[0m \u001b[0mwrapper\u001b[0m\u001b[0;34m\u001b[0m\u001b[0;34m\u001b[0m\u001b[0m\n",
            "\u001b[0;32m/usr/local/lib/python3.7/dist-packages/pandas/io/parsers/readers.py\u001b[0m in \u001b[0;36mread_csv\u001b[0;34m(filepath_or_buffer, sep, delimiter, header, names, index_col, usecols, squeeze, prefix, mangle_dupe_cols, dtype, engine, converters, true_values, false_values, skipinitialspace, skiprows, skipfooter, nrows, na_values, keep_default_na, na_filter, verbose, skip_blank_lines, parse_dates, infer_datetime_format, keep_date_col, date_parser, dayfirst, cache_dates, iterator, chunksize, compression, thousands, decimal, lineterminator, quotechar, quoting, doublequote, escapechar, comment, encoding, encoding_errors, dialect, error_bad_lines, warn_bad_lines, on_bad_lines, delim_whitespace, low_memory, memory_map, float_precision, storage_options)\u001b[0m\n\u001b[1;32m    584\u001b[0m     \u001b[0mkwds\u001b[0m\u001b[0;34m.\u001b[0m\u001b[0mupdate\u001b[0m\u001b[0;34m(\u001b[0m\u001b[0mkwds_defaults\u001b[0m\u001b[0;34m)\u001b[0m\u001b[0;34m\u001b[0m\u001b[0;34m\u001b[0m\u001b[0m\n\u001b[1;32m    585\u001b[0m \u001b[0;34m\u001b[0m\u001b[0m\n\u001b[0;32m--> 586\u001b[0;31m     \u001b[0;32mreturn\u001b[0m \u001b[0m_read\u001b[0m\u001b[0;34m(\u001b[0m\u001b[0mfilepath_or_buffer\u001b[0m\u001b[0;34m,\u001b[0m \u001b[0mkwds\u001b[0m\u001b[0;34m)\u001b[0m\u001b[0;34m\u001b[0m\u001b[0;34m\u001b[0m\u001b[0m\n\u001b[0m\u001b[1;32m    587\u001b[0m \u001b[0;34m\u001b[0m\u001b[0m\n\u001b[1;32m    588\u001b[0m \u001b[0;34m\u001b[0m\u001b[0m\n",
            "\u001b[0;32m/usr/local/lib/python3.7/dist-packages/pandas/io/parsers/readers.py\u001b[0m in \u001b[0;36m_read\u001b[0;34m(filepath_or_buffer, kwds)\u001b[0m\n\u001b[1;32m    486\u001b[0m \u001b[0;34m\u001b[0m\u001b[0m\n\u001b[1;32m    487\u001b[0m     \u001b[0;32mwith\u001b[0m \u001b[0mparser\u001b[0m\u001b[0;34m:\u001b[0m\u001b[0;34m\u001b[0m\u001b[0;34m\u001b[0m\u001b[0m\n\u001b[0;32m--> 488\u001b[0;31m         \u001b[0;32mreturn\u001b[0m \u001b[0mparser\u001b[0m\u001b[0;34m.\u001b[0m\u001b[0mread\u001b[0m\u001b[0;34m(\u001b[0m\u001b[0mnrows\u001b[0m\u001b[0;34m)\u001b[0m\u001b[0;34m\u001b[0m\u001b[0;34m\u001b[0m\u001b[0m\n\u001b[0m\u001b[1;32m    489\u001b[0m \u001b[0;34m\u001b[0m\u001b[0m\n\u001b[1;32m    490\u001b[0m \u001b[0;34m\u001b[0m\u001b[0m\n",
            "\u001b[0;32m/usr/local/lib/python3.7/dist-packages/pandas/io/parsers/readers.py\u001b[0m in \u001b[0;36mread\u001b[0;34m(self, nrows)\u001b[0m\n\u001b[1;32m   1045\u001b[0m     \u001b[0;32mdef\u001b[0m \u001b[0mread\u001b[0m\u001b[0;34m(\u001b[0m\u001b[0mself\u001b[0m\u001b[0;34m,\u001b[0m \u001b[0mnrows\u001b[0m\u001b[0;34m=\u001b[0m\u001b[0;32mNone\u001b[0m\u001b[0;34m)\u001b[0m\u001b[0;34m:\u001b[0m\u001b[0;34m\u001b[0m\u001b[0;34m\u001b[0m\u001b[0m\n\u001b[1;32m   1046\u001b[0m         \u001b[0mnrows\u001b[0m \u001b[0;34m=\u001b[0m \u001b[0mvalidate_integer\u001b[0m\u001b[0;34m(\u001b[0m\u001b[0;34m\"nrows\"\u001b[0m\u001b[0;34m,\u001b[0m \u001b[0mnrows\u001b[0m\u001b[0;34m)\u001b[0m\u001b[0;34m\u001b[0m\u001b[0;34m\u001b[0m\u001b[0m\n\u001b[0;32m-> 1047\u001b[0;31m         \u001b[0mindex\u001b[0m\u001b[0;34m,\u001b[0m \u001b[0mcolumns\u001b[0m\u001b[0;34m,\u001b[0m \u001b[0mcol_dict\u001b[0m \u001b[0;34m=\u001b[0m \u001b[0mself\u001b[0m\u001b[0;34m.\u001b[0m\u001b[0m_engine\u001b[0m\u001b[0;34m.\u001b[0m\u001b[0mread\u001b[0m\u001b[0;34m(\u001b[0m\u001b[0mnrows\u001b[0m\u001b[0;34m)\u001b[0m\u001b[0;34m\u001b[0m\u001b[0;34m\u001b[0m\u001b[0m\n\u001b[0m\u001b[1;32m   1048\u001b[0m \u001b[0;34m\u001b[0m\u001b[0m\n\u001b[1;32m   1049\u001b[0m         \u001b[0;32mif\u001b[0m \u001b[0mindex\u001b[0m \u001b[0;32mis\u001b[0m \u001b[0;32mNone\u001b[0m\u001b[0;34m:\u001b[0m\u001b[0;34m\u001b[0m\u001b[0;34m\u001b[0m\u001b[0m\n",
            "\u001b[0;32m/usr/local/lib/python3.7/dist-packages/pandas/io/parsers/c_parser_wrapper.py\u001b[0m in \u001b[0;36mread\u001b[0;34m(self, nrows)\u001b[0m\n\u001b[1;32m    222\u001b[0m         \u001b[0;32mtry\u001b[0m\u001b[0;34m:\u001b[0m\u001b[0;34m\u001b[0m\u001b[0;34m\u001b[0m\u001b[0m\n\u001b[1;32m    223\u001b[0m             \u001b[0;32mif\u001b[0m \u001b[0mself\u001b[0m\u001b[0;34m.\u001b[0m\u001b[0mlow_memory\u001b[0m\u001b[0;34m:\u001b[0m\u001b[0;34m\u001b[0m\u001b[0;34m\u001b[0m\u001b[0m\n\u001b[0;32m--> 224\u001b[0;31m                 \u001b[0mchunks\u001b[0m \u001b[0;34m=\u001b[0m \u001b[0mself\u001b[0m\u001b[0;34m.\u001b[0m\u001b[0m_reader\u001b[0m\u001b[0;34m.\u001b[0m\u001b[0mread_low_memory\u001b[0m\u001b[0;34m(\u001b[0m\u001b[0mnrows\u001b[0m\u001b[0;34m)\u001b[0m\u001b[0;34m\u001b[0m\u001b[0;34m\u001b[0m\u001b[0m\n\u001b[0m\u001b[1;32m    225\u001b[0m                 \u001b[0;31m# destructive to chunks\u001b[0m\u001b[0;34m\u001b[0m\u001b[0;34m\u001b[0m\u001b[0;34m\u001b[0m\u001b[0m\n\u001b[1;32m    226\u001b[0m                 \u001b[0mdata\u001b[0m \u001b[0;34m=\u001b[0m \u001b[0m_concatenate_chunks\u001b[0m\u001b[0;34m(\u001b[0m\u001b[0mchunks\u001b[0m\u001b[0;34m)\u001b[0m\u001b[0;34m\u001b[0m\u001b[0;34m\u001b[0m\u001b[0m\n",
            "\u001b[0;32m/usr/local/lib/python3.7/dist-packages/pandas/_libs/parsers.pyx\u001b[0m in \u001b[0;36mpandas._libs.parsers.TextReader.read_low_memory\u001b[0;34m()\u001b[0m\n",
            "\u001b[0;32m/usr/local/lib/python3.7/dist-packages/pandas/_libs/parsers.pyx\u001b[0m in \u001b[0;36mpandas._libs.parsers.TextReader._read_rows\u001b[0;34m()\u001b[0m\n",
            "\u001b[0;32m/usr/local/lib/python3.7/dist-packages/pandas/_libs/parsers.pyx\u001b[0m in \u001b[0;36mpandas._libs.parsers.TextReader._tokenize_rows\u001b[0;34m()\u001b[0m\n",
            "\u001b[0;32m/usr/local/lib/python3.7/dist-packages/pandas/_libs/parsers.pyx\u001b[0m in \u001b[0;36mpandas._libs.parsers.raise_parser_error\u001b[0;34m()\u001b[0m\n",
            "\u001b[0;31mParserError\u001b[0m: Error tokenizing data. C error: EOF inside string starting at row 1306"
          ]
        }
      ],
      "source": [
        "df = pd.read_csv(\"/content/mbti_1.csv\")"
      ]
    },
    {
      "cell_type": "code",
      "execution_count": null,
      "metadata": {
        "colab": {
          "base_uri": "https://localhost:8080/",
          "height": 424
        },
        "id": "faX36ocCrptw",
        "outputId": "1fb0c053-8688-4ce2-cd5a-d9a0ee280133"
      },
      "outputs": [
        {
          "data": {
            "text/html": [
              "\n",
              "  <div id=\"df-17c5b815-ed6b-47ea-9662-a50051f8b444\">\n",
              "    <div class=\"colab-df-container\">\n",
              "      <div>\n",
              "<style scoped>\n",
              "    .dataframe tbody tr th:only-of-type {\n",
              "        vertical-align: middle;\n",
              "    }\n",
              "\n",
              "    .dataframe tbody tr th {\n",
              "        vertical-align: top;\n",
              "    }\n",
              "\n",
              "    .dataframe thead th {\n",
              "        text-align: right;\n",
              "    }\n",
              "</style>\n",
              "<table border=\"1\" class=\"dataframe\">\n",
              "  <thead>\n",
              "    <tr style=\"text-align: right;\">\n",
              "      <th></th>\n",
              "      <th>type</th>\n",
              "      <th>posts</th>\n",
              "    </tr>\n",
              "  </thead>\n",
              "  <tbody>\n",
              "    <tr>\n",
              "      <th>0</th>\n",
              "      <td>INFJ</td>\n",
              "      <td>'http://www.youtube.com/watch?v=qsXHcwe3krw|||...</td>\n",
              "    </tr>\n",
              "    <tr>\n",
              "      <th>1</th>\n",
              "      <td>ENTP</td>\n",
              "      <td>'I'm finding the lack of me in these posts ver...</td>\n",
              "    </tr>\n",
              "    <tr>\n",
              "      <th>2</th>\n",
              "      <td>INTP</td>\n",
              "      <td>'Good one  _____   https://www.youtube.com/wat...</td>\n",
              "    </tr>\n",
              "    <tr>\n",
              "      <th>3</th>\n",
              "      <td>INTJ</td>\n",
              "      <td>'Dear INTP,   I enjoyed our conversation the o...</td>\n",
              "    </tr>\n",
              "    <tr>\n",
              "      <th>4</th>\n",
              "      <td>ENTJ</td>\n",
              "      <td>'You're fired.|||That's another silly misconce...</td>\n",
              "    </tr>\n",
              "    <tr>\n",
              "      <th>...</th>\n",
              "      <td>...</td>\n",
              "      <td>...</td>\n",
              "    </tr>\n",
              "    <tr>\n",
              "      <th>8670</th>\n",
              "      <td>ISFP</td>\n",
              "      <td>'https://www.youtube.com/watch?v=t8edHB_h908||...</td>\n",
              "    </tr>\n",
              "    <tr>\n",
              "      <th>8671</th>\n",
              "      <td>ENFP</td>\n",
              "      <td>'So...if this thread already exists someplace ...</td>\n",
              "    </tr>\n",
              "    <tr>\n",
              "      <th>8672</th>\n",
              "      <td>INTP</td>\n",
              "      <td>'So many questions when i do these things.  I ...</td>\n",
              "    </tr>\n",
              "    <tr>\n",
              "      <th>8673</th>\n",
              "      <td>INFP</td>\n",
              "      <td>'I am very conflicted right now when it comes ...</td>\n",
              "    </tr>\n",
              "    <tr>\n",
              "      <th>8674</th>\n",
              "      <td>INFP</td>\n",
              "      <td>'It has been too long since I have been on per...</td>\n",
              "    </tr>\n",
              "  </tbody>\n",
              "</table>\n",
              "<p>8675 rows × 2 columns</p>\n",
              "</div>\n",
              "      <button class=\"colab-df-convert\" onclick=\"convertToInteractive('df-17c5b815-ed6b-47ea-9662-a50051f8b444')\"\n",
              "              title=\"Convert this dataframe to an interactive table.\"\n",
              "              style=\"display:none;\">\n",
              "        \n",
              "  <svg xmlns=\"http://www.w3.org/2000/svg\" height=\"24px\"viewBox=\"0 0 24 24\"\n",
              "       width=\"24px\">\n",
              "    <path d=\"M0 0h24v24H0V0z\" fill=\"none\"/>\n",
              "    <path d=\"M18.56 5.44l.94 2.06.94-2.06 2.06-.94-2.06-.94-.94-2.06-.94 2.06-2.06.94zm-11 1L8.5 8.5l.94-2.06 2.06-.94-2.06-.94L8.5 2.5l-.94 2.06-2.06.94zm10 10l.94 2.06.94-2.06 2.06-.94-2.06-.94-.94-2.06-.94 2.06-2.06.94z\"/><path d=\"M17.41 7.96l-1.37-1.37c-.4-.4-.92-.59-1.43-.59-.52 0-1.04.2-1.43.59L10.3 9.45l-7.72 7.72c-.78.78-.78 2.05 0 2.83L4 21.41c.39.39.9.59 1.41.59.51 0 1.02-.2 1.41-.59l7.78-7.78 2.81-2.81c.8-.78.8-2.07 0-2.86zM5.41 20L4 18.59l7.72-7.72 1.47 1.35L5.41 20z\"/>\n",
              "  </svg>\n",
              "      </button>\n",
              "      \n",
              "  <style>\n",
              "    .colab-df-container {\n",
              "      display:flex;\n",
              "      flex-wrap:wrap;\n",
              "      gap: 12px;\n",
              "    }\n",
              "\n",
              "    .colab-df-convert {\n",
              "      background-color: #E8F0FE;\n",
              "      border: none;\n",
              "      border-radius: 50%;\n",
              "      cursor: pointer;\n",
              "      display: none;\n",
              "      fill: #1967D2;\n",
              "      height: 32px;\n",
              "      padding: 0 0 0 0;\n",
              "      width: 32px;\n",
              "    }\n",
              "\n",
              "    .colab-df-convert:hover {\n",
              "      background-color: #E2EBFA;\n",
              "      box-shadow: 0px 1px 2px rgba(60, 64, 67, 0.3), 0px 1px 3px 1px rgba(60, 64, 67, 0.15);\n",
              "      fill: #174EA6;\n",
              "    }\n",
              "\n",
              "    [theme=dark] .colab-df-convert {\n",
              "      background-color: #3B4455;\n",
              "      fill: #D2E3FC;\n",
              "    }\n",
              "\n",
              "    [theme=dark] .colab-df-convert:hover {\n",
              "      background-color: #434B5C;\n",
              "      box-shadow: 0px 1px 3px 1px rgba(0, 0, 0, 0.15);\n",
              "      filter: drop-shadow(0px 1px 2px rgba(0, 0, 0, 0.3));\n",
              "      fill: #FFFFFF;\n",
              "    }\n",
              "  </style>\n",
              "\n",
              "      <script>\n",
              "        const buttonEl =\n",
              "          document.querySelector('#df-17c5b815-ed6b-47ea-9662-a50051f8b444 button.colab-df-convert');\n",
              "        buttonEl.style.display =\n",
              "          google.colab.kernel.accessAllowed ? 'block' : 'none';\n",
              "\n",
              "        async function convertToInteractive(key) {\n",
              "          const element = document.querySelector('#df-17c5b815-ed6b-47ea-9662-a50051f8b444');\n",
              "          const dataTable =\n",
              "            await google.colab.kernel.invokeFunction('convertToInteractive',\n",
              "                                                     [key], {});\n",
              "          if (!dataTable) return;\n",
              "\n",
              "          const docLinkHtml = 'Like what you see? Visit the ' +\n",
              "            '<a target=\"_blank\" href=https://colab.research.google.com/notebooks/data_table.ipynb>data table notebook</a>'\n",
              "            + ' to learn more about interactive tables.';\n",
              "          element.innerHTML = '';\n",
              "          dataTable['output_type'] = 'display_data';\n",
              "          await google.colab.output.renderOutput(dataTable, element);\n",
              "          const docLink = document.createElement('div');\n",
              "          docLink.innerHTML = docLinkHtml;\n",
              "          element.appendChild(docLink);\n",
              "        }\n",
              "      </script>\n",
              "    </div>\n",
              "  </div>\n",
              "  "
            ],
            "text/plain": [
              "      type                                              posts\n",
              "0     INFJ  'http://www.youtube.com/watch?v=qsXHcwe3krw|||...\n",
              "1     ENTP  'I'm finding the lack of me in these posts ver...\n",
              "2     INTP  'Good one  _____   https://www.youtube.com/wat...\n",
              "3     INTJ  'Dear INTP,   I enjoyed our conversation the o...\n",
              "4     ENTJ  'You're fired.|||That's another silly misconce...\n",
              "...    ...                                                ...\n",
              "8670  ISFP  'https://www.youtube.com/watch?v=t8edHB_h908||...\n",
              "8671  ENFP  'So...if this thread already exists someplace ...\n",
              "8672  INTP  'So many questions when i do these things.  I ...\n",
              "8673  INFP  'I am very conflicted right now when it comes ...\n",
              "8674  INFP  'It has been too long since I have been on per...\n",
              "\n",
              "[8675 rows x 2 columns]"
            ]
          },
          "execution_count": 32,
          "metadata": {},
          "output_type": "execute_result"
        }
      ],
      "source": [
        "df"
      ]
    },
    {
      "cell_type": "code",
      "execution_count": null,
      "metadata": {
        "id": "wE-7lY-7p5Ug"
      },
      "outputs": [],
      "source": [
        "# DON'T RUN THIS CELL. RUN THE CELL BELOW INSTEAD.\n",
        "df = df[:2500] # Only using part of dataframe\n",
        "\n",
        "df_length = len(df)\n",
        "\n",
        "for i in range(df_length):\n",
        "  posts_split = df.iloc[i]['posts'].split('|||')\n",
        "  cur_type = df.iloc[i]['type']\n",
        "  for post in posts_split:\n",
        "    df = df.append({'type': cur_type, 'posts': post}, ignore_index=True)\n",
        "\n",
        "indices = list(range(df_length))\n",
        "df = df.drop(df.index[indices])\n",
        "df = df.reset_index()\n",
        "\n",
        "df.to_csv('processed_data_split_posts.csv')"
      ]
    },
    {
      "cell_type": "code",
      "execution_count": null,
      "metadata": {
        "id": "8CH-8Iiixrxk",
        "colab": {
          "base_uri": "https://localhost:8080/",
          "height": 372
        },
        "outputId": "304ef9c9-10ab-4420-c14d-6f44ec01a02d"
      },
      "outputs": [
        {
          "output_type": "error",
          "ename": "FileNotFoundError",
          "evalue": "ignored",
          "traceback": [
            "\u001b[0;31m---------------------------------------------------------------------------\u001b[0m",
            "\u001b[0;31mFileNotFoundError\u001b[0m                         Traceback (most recent call last)",
            "\u001b[0;32m<ipython-input-226-7f17d57bce5c>\u001b[0m in \u001b[0;36m<module>\u001b[0;34m\u001b[0m\n\u001b[1;32m      1\u001b[0m \u001b[0;31m# RUN THIS CELL\u001b[0m\u001b[0;34m\u001b[0m\u001b[0;34m\u001b[0m\u001b[0;34m\u001b[0m\u001b[0m\n\u001b[0;32m----> 2\u001b[0;31m \u001b[0mdf\u001b[0m \u001b[0;34m=\u001b[0m \u001b[0mpd\u001b[0m\u001b[0;34m.\u001b[0m\u001b[0mread_csv\u001b[0m\u001b[0;34m(\u001b[0m\u001b[0;34m\"/content/processed_data_split_posts.csv\"\u001b[0m\u001b[0;34m)\u001b[0m\u001b[0;34m\u001b[0m\u001b[0;34m\u001b[0m\u001b[0m\n\u001b[0m\u001b[1;32m      3\u001b[0m \u001b[0mdf\u001b[0m\u001b[0;34m.\u001b[0m\u001b[0mdrop\u001b[0m\u001b[0;34m(\u001b[0m\u001b[0mcolumns\u001b[0m\u001b[0;34m=\u001b[0m\u001b[0mdf\u001b[0m\u001b[0;34m.\u001b[0m\u001b[0mcolumns\u001b[0m\u001b[0;34m[\u001b[0m\u001b[0;36m0\u001b[0m\u001b[0;34m:\u001b[0m\u001b[0;36m2\u001b[0m\u001b[0;34m]\u001b[0m\u001b[0;34m,\u001b[0m \u001b[0minplace\u001b[0m\u001b[0;34m=\u001b[0m\u001b[0;32mTrue\u001b[0m\u001b[0;34m,\u001b[0m \u001b[0maxis\u001b[0m\u001b[0;34m=\u001b[0m\u001b[0;36m1\u001b[0m\u001b[0;34m)\u001b[0m\u001b[0;34m\u001b[0m\u001b[0;34m\u001b[0m\u001b[0m\n",
            "\u001b[0;32m/usr/local/lib/python3.7/dist-packages/pandas/util/_decorators.py\u001b[0m in \u001b[0;36mwrapper\u001b[0;34m(*args, **kwargs)\u001b[0m\n\u001b[1;32m    309\u001b[0m                     \u001b[0mstacklevel\u001b[0m\u001b[0;34m=\u001b[0m\u001b[0mstacklevel\u001b[0m\u001b[0;34m,\u001b[0m\u001b[0;34m\u001b[0m\u001b[0;34m\u001b[0m\u001b[0m\n\u001b[1;32m    310\u001b[0m                 )\n\u001b[0;32m--> 311\u001b[0;31m             \u001b[0;32mreturn\u001b[0m \u001b[0mfunc\u001b[0m\u001b[0;34m(\u001b[0m\u001b[0;34m*\u001b[0m\u001b[0margs\u001b[0m\u001b[0;34m,\u001b[0m \u001b[0;34m**\u001b[0m\u001b[0mkwargs\u001b[0m\u001b[0;34m)\u001b[0m\u001b[0;34m\u001b[0m\u001b[0;34m\u001b[0m\u001b[0m\n\u001b[0m\u001b[1;32m    312\u001b[0m \u001b[0;34m\u001b[0m\u001b[0m\n\u001b[1;32m    313\u001b[0m         \u001b[0;32mreturn\u001b[0m \u001b[0mwrapper\u001b[0m\u001b[0;34m\u001b[0m\u001b[0;34m\u001b[0m\u001b[0m\n",
            "\u001b[0;32m/usr/local/lib/python3.7/dist-packages/pandas/io/parsers/readers.py\u001b[0m in \u001b[0;36mread_csv\u001b[0;34m(filepath_or_buffer, sep, delimiter, header, names, index_col, usecols, squeeze, prefix, mangle_dupe_cols, dtype, engine, converters, true_values, false_values, skipinitialspace, skiprows, skipfooter, nrows, na_values, keep_default_na, na_filter, verbose, skip_blank_lines, parse_dates, infer_datetime_format, keep_date_col, date_parser, dayfirst, cache_dates, iterator, chunksize, compression, thousands, decimal, lineterminator, quotechar, quoting, doublequote, escapechar, comment, encoding, encoding_errors, dialect, error_bad_lines, warn_bad_lines, on_bad_lines, delim_whitespace, low_memory, memory_map, float_precision, storage_options)\u001b[0m\n\u001b[1;32m    584\u001b[0m     \u001b[0mkwds\u001b[0m\u001b[0;34m.\u001b[0m\u001b[0mupdate\u001b[0m\u001b[0;34m(\u001b[0m\u001b[0mkwds_defaults\u001b[0m\u001b[0;34m)\u001b[0m\u001b[0;34m\u001b[0m\u001b[0;34m\u001b[0m\u001b[0m\n\u001b[1;32m    585\u001b[0m \u001b[0;34m\u001b[0m\u001b[0m\n\u001b[0;32m--> 586\u001b[0;31m     \u001b[0;32mreturn\u001b[0m \u001b[0m_read\u001b[0m\u001b[0;34m(\u001b[0m\u001b[0mfilepath_or_buffer\u001b[0m\u001b[0;34m,\u001b[0m \u001b[0mkwds\u001b[0m\u001b[0;34m)\u001b[0m\u001b[0;34m\u001b[0m\u001b[0;34m\u001b[0m\u001b[0m\n\u001b[0m\u001b[1;32m    587\u001b[0m \u001b[0;34m\u001b[0m\u001b[0m\n\u001b[1;32m    588\u001b[0m \u001b[0;34m\u001b[0m\u001b[0m\n",
            "\u001b[0;32m/usr/local/lib/python3.7/dist-packages/pandas/io/parsers/readers.py\u001b[0m in \u001b[0;36m_read\u001b[0;34m(filepath_or_buffer, kwds)\u001b[0m\n\u001b[1;32m    480\u001b[0m \u001b[0;34m\u001b[0m\u001b[0m\n\u001b[1;32m    481\u001b[0m     \u001b[0;31m# Create the parser.\u001b[0m\u001b[0;34m\u001b[0m\u001b[0;34m\u001b[0m\u001b[0;34m\u001b[0m\u001b[0m\n\u001b[0;32m--> 482\u001b[0;31m     \u001b[0mparser\u001b[0m \u001b[0;34m=\u001b[0m \u001b[0mTextFileReader\u001b[0m\u001b[0;34m(\u001b[0m\u001b[0mfilepath_or_buffer\u001b[0m\u001b[0;34m,\u001b[0m \u001b[0;34m**\u001b[0m\u001b[0mkwds\u001b[0m\u001b[0;34m)\u001b[0m\u001b[0;34m\u001b[0m\u001b[0;34m\u001b[0m\u001b[0m\n\u001b[0m\u001b[1;32m    483\u001b[0m \u001b[0;34m\u001b[0m\u001b[0m\n\u001b[1;32m    484\u001b[0m     \u001b[0;32mif\u001b[0m \u001b[0mchunksize\u001b[0m \u001b[0;32mor\u001b[0m \u001b[0miterator\u001b[0m\u001b[0;34m:\u001b[0m\u001b[0;34m\u001b[0m\u001b[0;34m\u001b[0m\u001b[0m\n",
            "\u001b[0;32m/usr/local/lib/python3.7/dist-packages/pandas/io/parsers/readers.py\u001b[0m in \u001b[0;36m__init__\u001b[0;34m(self, f, engine, **kwds)\u001b[0m\n\u001b[1;32m    809\u001b[0m             \u001b[0mself\u001b[0m\u001b[0;34m.\u001b[0m\u001b[0moptions\u001b[0m\u001b[0;34m[\u001b[0m\u001b[0;34m\"has_index_names\"\u001b[0m\u001b[0;34m]\u001b[0m \u001b[0;34m=\u001b[0m \u001b[0mkwds\u001b[0m\u001b[0;34m[\u001b[0m\u001b[0;34m\"has_index_names\"\u001b[0m\u001b[0;34m]\u001b[0m\u001b[0;34m\u001b[0m\u001b[0;34m\u001b[0m\u001b[0m\n\u001b[1;32m    810\u001b[0m \u001b[0;34m\u001b[0m\u001b[0m\n\u001b[0;32m--> 811\u001b[0;31m         \u001b[0mself\u001b[0m\u001b[0;34m.\u001b[0m\u001b[0m_engine\u001b[0m \u001b[0;34m=\u001b[0m \u001b[0mself\u001b[0m\u001b[0;34m.\u001b[0m\u001b[0m_make_engine\u001b[0m\u001b[0;34m(\u001b[0m\u001b[0mself\u001b[0m\u001b[0;34m.\u001b[0m\u001b[0mengine\u001b[0m\u001b[0;34m)\u001b[0m\u001b[0;34m\u001b[0m\u001b[0;34m\u001b[0m\u001b[0m\n\u001b[0m\u001b[1;32m    812\u001b[0m \u001b[0;34m\u001b[0m\u001b[0m\n\u001b[1;32m    813\u001b[0m     \u001b[0;32mdef\u001b[0m \u001b[0mclose\u001b[0m\u001b[0;34m(\u001b[0m\u001b[0mself\u001b[0m\u001b[0;34m)\u001b[0m\u001b[0;34m:\u001b[0m\u001b[0;34m\u001b[0m\u001b[0;34m\u001b[0m\u001b[0m\n",
            "\u001b[0;32m/usr/local/lib/python3.7/dist-packages/pandas/io/parsers/readers.py\u001b[0m in \u001b[0;36m_make_engine\u001b[0;34m(self, engine)\u001b[0m\n\u001b[1;32m   1038\u001b[0m             )\n\u001b[1;32m   1039\u001b[0m         \u001b[0;31m# error: Too many arguments for \"ParserBase\"\u001b[0m\u001b[0;34m\u001b[0m\u001b[0;34m\u001b[0m\u001b[0;34m\u001b[0m\u001b[0m\n\u001b[0;32m-> 1040\u001b[0;31m         \u001b[0;32mreturn\u001b[0m \u001b[0mmapping\u001b[0m\u001b[0;34m[\u001b[0m\u001b[0mengine\u001b[0m\u001b[0;34m]\u001b[0m\u001b[0;34m(\u001b[0m\u001b[0mself\u001b[0m\u001b[0;34m.\u001b[0m\u001b[0mf\u001b[0m\u001b[0;34m,\u001b[0m \u001b[0;34m**\u001b[0m\u001b[0mself\u001b[0m\u001b[0;34m.\u001b[0m\u001b[0moptions\u001b[0m\u001b[0;34m)\u001b[0m  \u001b[0;31m# type: ignore[call-arg]\u001b[0m\u001b[0;34m\u001b[0m\u001b[0;34m\u001b[0m\u001b[0m\n\u001b[0m\u001b[1;32m   1041\u001b[0m \u001b[0;34m\u001b[0m\u001b[0m\n\u001b[1;32m   1042\u001b[0m     \u001b[0;32mdef\u001b[0m \u001b[0m_failover_to_python\u001b[0m\u001b[0;34m(\u001b[0m\u001b[0mself\u001b[0m\u001b[0;34m)\u001b[0m\u001b[0;34m:\u001b[0m\u001b[0;34m\u001b[0m\u001b[0;34m\u001b[0m\u001b[0m\n",
            "\u001b[0;32m/usr/local/lib/python3.7/dist-packages/pandas/io/parsers/c_parser_wrapper.py\u001b[0m in \u001b[0;36m__init__\u001b[0;34m(self, src, **kwds)\u001b[0m\n\u001b[1;32m     49\u001b[0m \u001b[0;34m\u001b[0m\u001b[0m\n\u001b[1;32m     50\u001b[0m         \u001b[0;31m# open handles\u001b[0m\u001b[0;34m\u001b[0m\u001b[0;34m\u001b[0m\u001b[0;34m\u001b[0m\u001b[0m\n\u001b[0;32m---> 51\u001b[0;31m         \u001b[0mself\u001b[0m\u001b[0;34m.\u001b[0m\u001b[0m_open_handles\u001b[0m\u001b[0;34m(\u001b[0m\u001b[0msrc\u001b[0m\u001b[0;34m,\u001b[0m \u001b[0mkwds\u001b[0m\u001b[0;34m)\u001b[0m\u001b[0;34m\u001b[0m\u001b[0;34m\u001b[0m\u001b[0m\n\u001b[0m\u001b[1;32m     52\u001b[0m         \u001b[0;32massert\u001b[0m \u001b[0mself\u001b[0m\u001b[0;34m.\u001b[0m\u001b[0mhandles\u001b[0m \u001b[0;32mis\u001b[0m \u001b[0;32mnot\u001b[0m \u001b[0;32mNone\u001b[0m\u001b[0;34m\u001b[0m\u001b[0;34m\u001b[0m\u001b[0m\n\u001b[1;32m     53\u001b[0m \u001b[0;34m\u001b[0m\u001b[0m\n",
            "\u001b[0;32m/usr/local/lib/python3.7/dist-packages/pandas/io/parsers/base_parser.py\u001b[0m in \u001b[0;36m_open_handles\u001b[0;34m(self, src, kwds)\u001b[0m\n\u001b[1;32m    227\u001b[0m             \u001b[0mmemory_map\u001b[0m\u001b[0;34m=\u001b[0m\u001b[0mkwds\u001b[0m\u001b[0;34m.\u001b[0m\u001b[0mget\u001b[0m\u001b[0;34m(\u001b[0m\u001b[0;34m\"memory_map\"\u001b[0m\u001b[0;34m,\u001b[0m \u001b[0;32mFalse\u001b[0m\u001b[0;34m)\u001b[0m\u001b[0;34m,\u001b[0m\u001b[0;34m\u001b[0m\u001b[0;34m\u001b[0m\u001b[0m\n\u001b[1;32m    228\u001b[0m             \u001b[0mstorage_options\u001b[0m\u001b[0;34m=\u001b[0m\u001b[0mkwds\u001b[0m\u001b[0;34m.\u001b[0m\u001b[0mget\u001b[0m\u001b[0;34m(\u001b[0m\u001b[0;34m\"storage_options\"\u001b[0m\u001b[0;34m,\u001b[0m \u001b[0;32mNone\u001b[0m\u001b[0;34m)\u001b[0m\u001b[0;34m,\u001b[0m\u001b[0;34m\u001b[0m\u001b[0;34m\u001b[0m\u001b[0m\n\u001b[0;32m--> 229\u001b[0;31m             \u001b[0merrors\u001b[0m\u001b[0;34m=\u001b[0m\u001b[0mkwds\u001b[0m\u001b[0;34m.\u001b[0m\u001b[0mget\u001b[0m\u001b[0;34m(\u001b[0m\u001b[0;34m\"encoding_errors\"\u001b[0m\u001b[0;34m,\u001b[0m \u001b[0;34m\"strict\"\u001b[0m\u001b[0;34m)\u001b[0m\u001b[0;34m,\u001b[0m\u001b[0;34m\u001b[0m\u001b[0;34m\u001b[0m\u001b[0m\n\u001b[0m\u001b[1;32m    230\u001b[0m         )\n\u001b[1;32m    231\u001b[0m \u001b[0;34m\u001b[0m\u001b[0m\n",
            "\u001b[0;32m/usr/local/lib/python3.7/dist-packages/pandas/io/common.py\u001b[0m in \u001b[0;36mget_handle\u001b[0;34m(path_or_buf, mode, encoding, compression, memory_map, is_text, errors, storage_options)\u001b[0m\n\u001b[1;32m    705\u001b[0m                 \u001b[0mencoding\u001b[0m\u001b[0;34m=\u001b[0m\u001b[0mioargs\u001b[0m\u001b[0;34m.\u001b[0m\u001b[0mencoding\u001b[0m\u001b[0;34m,\u001b[0m\u001b[0;34m\u001b[0m\u001b[0;34m\u001b[0m\u001b[0m\n\u001b[1;32m    706\u001b[0m                 \u001b[0merrors\u001b[0m\u001b[0;34m=\u001b[0m\u001b[0merrors\u001b[0m\u001b[0;34m,\u001b[0m\u001b[0;34m\u001b[0m\u001b[0;34m\u001b[0m\u001b[0m\n\u001b[0;32m--> 707\u001b[0;31m                 \u001b[0mnewline\u001b[0m\u001b[0;34m=\u001b[0m\u001b[0;34m\"\"\u001b[0m\u001b[0;34m,\u001b[0m\u001b[0;34m\u001b[0m\u001b[0;34m\u001b[0m\u001b[0m\n\u001b[0m\u001b[1;32m    708\u001b[0m             )\n\u001b[1;32m    709\u001b[0m         \u001b[0;32melse\u001b[0m\u001b[0;34m:\u001b[0m\u001b[0;34m\u001b[0m\u001b[0;34m\u001b[0m\u001b[0m\n",
            "\u001b[0;31mFileNotFoundError\u001b[0m: [Errno 2] No such file or directory: '/content/processed_data_split_posts.csv'"
          ]
        }
      ],
      "source": [
        "# RUN THIS CELL\n",
        "df = pd.read_csv(\"/content/processed_data_split_posts.csv\")\n",
        "df.drop(columns=df.columns[0:2], inplace=True, axis=1)"
      ]
    },
    {
      "cell_type": "code",
      "execution_count": null,
      "metadata": {
        "colab": {
          "base_uri": "https://localhost:8080/",
          "height": 206
        },
        "id": "s2IL57c4srDG",
        "outputId": "84c3c128-cba3-4552-c716-3936f2692fd1"
      },
      "outputs": [
        {
          "output_type": "execute_result",
          "data": {
            "text/plain": [
              "        type                                              posts\n",
              "122063  INFJ  I hang out with mostly guys, and I though I dr...\n",
              "122064  INFJ  Yeah, I do quick, casual touches to people I'm...\n",
              "122065  INFJ  Ahh! I thought I was the only one! I swear, I ...\n",
              "122066  INFJ  I've had a Xanga account since middle school. ...\n",
              "122067  INFJ  Personal ~   * Name - Corrine, female   Locati..."
            ],
            "text/html": [
              "\n",
              "  <div id=\"df-4b4d26c7-4fd7-4d59-89fa-9eddc05707a1\">\n",
              "    <div class=\"colab-df-container\">\n",
              "      <div>\n",
              "<style scoped>\n",
              "    .dataframe tbody tr th:only-of-type {\n",
              "        vertical-align: middle;\n",
              "    }\n",
              "\n",
              "    .dataframe tbody tr th {\n",
              "        vertical-align: top;\n",
              "    }\n",
              "\n",
              "    .dataframe thead th {\n",
              "        text-align: right;\n",
              "    }\n",
              "</style>\n",
              "<table border=\"1\" class=\"dataframe\">\n",
              "  <thead>\n",
              "    <tr style=\"text-align: right;\">\n",
              "      <th></th>\n",
              "      <th>type</th>\n",
              "      <th>posts</th>\n",
              "    </tr>\n",
              "  </thead>\n",
              "  <tbody>\n",
              "    <tr>\n",
              "      <th>122063</th>\n",
              "      <td>INFJ</td>\n",
              "      <td>I hang out with mostly guys, and I though I dr...</td>\n",
              "    </tr>\n",
              "    <tr>\n",
              "      <th>122064</th>\n",
              "      <td>INFJ</td>\n",
              "      <td>Yeah, I do quick, casual touches to people I'm...</td>\n",
              "    </tr>\n",
              "    <tr>\n",
              "      <th>122065</th>\n",
              "      <td>INFJ</td>\n",
              "      <td>Ahh! I thought I was the only one! I swear, I ...</td>\n",
              "    </tr>\n",
              "    <tr>\n",
              "      <th>122066</th>\n",
              "      <td>INFJ</td>\n",
              "      <td>I've had a Xanga account since middle school. ...</td>\n",
              "    </tr>\n",
              "    <tr>\n",
              "      <th>122067</th>\n",
              "      <td>INFJ</td>\n",
              "      <td>Personal ~   * Name - Corrine, female   Locati...</td>\n",
              "    </tr>\n",
              "  </tbody>\n",
              "</table>\n",
              "</div>\n",
              "      <button class=\"colab-df-convert\" onclick=\"convertToInteractive('df-4b4d26c7-4fd7-4d59-89fa-9eddc05707a1')\"\n",
              "              title=\"Convert this dataframe to an interactive table.\"\n",
              "              style=\"display:none;\">\n",
              "        \n",
              "  <svg xmlns=\"http://www.w3.org/2000/svg\" height=\"24px\"viewBox=\"0 0 24 24\"\n",
              "       width=\"24px\">\n",
              "    <path d=\"M0 0h24v24H0V0z\" fill=\"none\"/>\n",
              "    <path d=\"M18.56 5.44l.94 2.06.94-2.06 2.06-.94-2.06-.94-.94-2.06-.94 2.06-2.06.94zm-11 1L8.5 8.5l.94-2.06 2.06-.94-2.06-.94L8.5 2.5l-.94 2.06-2.06.94zm10 10l.94 2.06.94-2.06 2.06-.94-2.06-.94-.94-2.06-.94 2.06-2.06.94z\"/><path d=\"M17.41 7.96l-1.37-1.37c-.4-.4-.92-.59-1.43-.59-.52 0-1.04.2-1.43.59L10.3 9.45l-7.72 7.72c-.78.78-.78 2.05 0 2.83L4 21.41c.39.39.9.59 1.41.59.51 0 1.02-.2 1.41-.59l7.78-7.78 2.81-2.81c.8-.78.8-2.07 0-2.86zM5.41 20L4 18.59l7.72-7.72 1.47 1.35L5.41 20z\"/>\n",
              "  </svg>\n",
              "      </button>\n",
              "      \n",
              "  <style>\n",
              "    .colab-df-container {\n",
              "      display:flex;\n",
              "      flex-wrap:wrap;\n",
              "      gap: 12px;\n",
              "    }\n",
              "\n",
              "    .colab-df-convert {\n",
              "      background-color: #E8F0FE;\n",
              "      border: none;\n",
              "      border-radius: 50%;\n",
              "      cursor: pointer;\n",
              "      display: none;\n",
              "      fill: #1967D2;\n",
              "      height: 32px;\n",
              "      padding: 0 0 0 0;\n",
              "      width: 32px;\n",
              "    }\n",
              "\n",
              "    .colab-df-convert:hover {\n",
              "      background-color: #E2EBFA;\n",
              "      box-shadow: 0px 1px 2px rgba(60, 64, 67, 0.3), 0px 1px 3px 1px rgba(60, 64, 67, 0.15);\n",
              "      fill: #174EA6;\n",
              "    }\n",
              "\n",
              "    [theme=dark] .colab-df-convert {\n",
              "      background-color: #3B4455;\n",
              "      fill: #D2E3FC;\n",
              "    }\n",
              "\n",
              "    [theme=dark] .colab-df-convert:hover {\n",
              "      background-color: #434B5C;\n",
              "      box-shadow: 0px 1px 3px 1px rgba(0, 0, 0, 0.15);\n",
              "      filter: drop-shadow(0px 1px 2px rgba(0, 0, 0, 0.3));\n",
              "      fill: #FFFFFF;\n",
              "    }\n",
              "  </style>\n",
              "\n",
              "      <script>\n",
              "        const buttonEl =\n",
              "          document.querySelector('#df-4b4d26c7-4fd7-4d59-89fa-9eddc05707a1 button.colab-df-convert');\n",
              "        buttonEl.style.display =\n",
              "          google.colab.kernel.accessAllowed ? 'block' : 'none';\n",
              "\n",
              "        async function convertToInteractive(key) {\n",
              "          const element = document.querySelector('#df-4b4d26c7-4fd7-4d59-89fa-9eddc05707a1');\n",
              "          const dataTable =\n",
              "            await google.colab.kernel.invokeFunction('convertToInteractive',\n",
              "                                                     [key], {});\n",
              "          if (!dataTable) return;\n",
              "\n",
              "          const docLinkHtml = 'Like what you see? Visit the ' +\n",
              "            '<a target=\"_blank\" href=https://colab.research.google.com/notebooks/data_table.ipynb>data table notebook</a>'\n",
              "            + ' to learn more about interactive tables.';\n",
              "          element.innerHTML = '';\n",
              "          dataTable['output_type'] = 'display_data';\n",
              "          await google.colab.output.renderOutput(dataTable, element);\n",
              "          const docLink = document.createElement('div');\n",
              "          docLink.innerHTML = docLinkHtml;\n",
              "          element.appendChild(docLink);\n",
              "        }\n",
              "      </script>\n",
              "    </div>\n",
              "  </div>\n",
              "  "
            ]
          },
          "metadata": {},
          "execution_count": 12
        }
      ],
      "source": [
        "df.tail()"
      ]
    },
    {
      "cell_type": "code",
      "execution_count": null,
      "metadata": {
        "id": "ypIXkH9F3LrP"
      },
      "outputs": [],
      "source": [
        "# this is the ISTJ separation part\n",
        "df['I'] = 'NaN'\n",
        "df['S'] = 'NaN'\n",
        "df['T'] = 'NaN'\n",
        "df['J'] = 'NaN'\n",
        "df = df [['type', 'I', 'S', 'T', 'J', 'posts']]"
      ]
    },
    {
      "cell_type": "code",
      "execution_count": null,
      "metadata": {
        "id": "NTa3RZWE9CV3"
      },
      "outputs": [],
      "source": [
        "for i in range(len(df)):\n",
        "  if df.iloc[i,0][0] == 'I':\n",
        "    df.iloc[i,1] = 1    \n",
        "  else:\n",
        "    df.iloc[i,1] = 0    # E\n",
        "  if df.iloc[i,0][1] == 'S':\n",
        "    df.iloc[i,2] = 1    \n",
        "  else:\n",
        "    df.iloc[i,2] = 0    # N\n",
        "  if df.iloc[i,0][2] == 'T':\n",
        "    df.iloc[i,3] = 1\n",
        "  else:   \n",
        "    df.iloc[i,3] = 0    # F\n",
        "  if df.iloc[i,0][3] == 'J':\n",
        "    df.iloc[i,4] = 1\n",
        "  else:\n",
        "    df.iloc[i,4] = 0    # P"
      ]
    },
    {
      "cell_type": "code",
      "execution_count": null,
      "metadata": {
        "id": "vgcdG1NPam7O"
      },
      "outputs": [],
      "source": [
        "import re # import regular expression operations\n",
        "def remove_urls(post) :\n",
        "  post = re.sub(r'http\\S+', '', str(post), flags=re.MULTILINE)\n",
        "  return post\n",
        "\n",
        "def to_lowercase(post) :\n",
        "  post = post.lower()\n",
        "  return post\n",
        "\n",
        "def remove_punc(post) :\n",
        "  post = re.sub(r\"[^\\w\\d'\\s]+\", ' ', post)\n",
        "  post = post.replace(\"_\", '')\n",
        "  post = re.sub(' +', ' ', post)\n",
        "  return post\n",
        "\n",
        "def processed_row(row) :\n",
        "  processed_row = row\n",
        "  post = row[\"posts\"]\n",
        "  post = remove_urls(post)\n",
        "  post = to_lowercase(post)\n",
        "  post = remove_punc(post)\n",
        "  \n",
        "  processed_row[\"posts\"] = post\n",
        "  return processed_row"
      ]
    },
    {
      "cell_type": "code",
      "execution_count": null,
      "metadata": {
        "id": "HkGshdXXf1RT"
      },
      "outputs": [],
      "source": [
        "for index, row in df.iterrows() :\n",
        "  row = processed_row(row)"
      ]
    },
    {
      "cell_type": "code",
      "execution_count": null,
      "metadata": {
        "colab": {
          "base_uri": "https://localhost:8080/"
        },
        "id": "_T6vW8coiaNg",
        "outputId": "93da4394-df1e-4525-8de1-9c9b3f0e2846"
      },
      "outputs": [
        {
          "output_type": "stream",
          "name": "stdout",
          "text": [
            "        type  I  S  T  J                                              posts\n",
            "122063  INFJ  1  0  0  1  i hang out with mostly guys and i though i dre...\n",
            "122064  INFJ  1  0  0  1  yeah i do quick casual touches to people i'm c...\n",
            "122065  INFJ  1  0  0  1  ahh i thought i was the only one i swear i mad...\n",
            "122066  INFJ  1  0  0  1  i've had a xanga account since middle school t...\n",
            "122067  INFJ  1  0  0  1  personal name corrine female location phoenix ...\n"
          ]
        }
      ],
      "source": [
        "print(df.tail())"
      ]
    },
    {
      "cell_type": "code",
      "source": [
        "df.to_csv(\"final_processed_data.csv\", encoding='utf-8', index=False)"
      ],
      "metadata": {
        "id": "3V0nyWAfZjCD"
      },
      "execution_count": null,
      "outputs": []
    },
    {
      "cell_type": "code",
      "source": [
        "df_i = df.drop([\"S\", \"T\", \"J\"], axis=1)\n",
        "df_s = df.drop([\"I\", \"T\", \"J\"], axis=1)\n",
        "df_t = df.drop([\"I\", \"S\", \"J\"], axis=1)\n",
        "df_j = df.drop([\"I\", \"S\", \"T\"], axis=1)\n",
        "df_i.to_csv(\"final_processed_data_i.csv\", encoding='utf-8', index=False)\n",
        "df_s.to_csv(\"final_processed_data_s.csv\", encoding='utf-8', index=False)\n",
        "df_t.to_csv(\"final_processed_data_t.csv\", encoding='utf-8', index=False)\n",
        "df_j.to_csv(\"final_processed_data_j.csv\", encoding='utf-8', index=False)"
      ],
      "metadata": {
        "id": "YfThLqHVeejm"
      },
      "execution_count": null,
      "outputs": []
    },
    {
      "cell_type": "code",
      "source": [
        "df_i.to_csv(\"final_processed_data_i.csv\", encoding='utf-8', index=False)\n",
        "df_s.to_csv(\"final_processed_data_s.csv\", encoding='utf-8', index=False)\n",
        "df_t.to_csv(\"final_processed_data_t.csv\", encoding='utf-8', index=False)\n",
        "df_j.to_csv(\"final_processed_data_j.csv\", encoding='utf-8', index=False)"
      ],
      "metadata": {
        "id": "7tOg22Pa9z34"
      },
      "execution_count": null,
      "outputs": []
    },
    {
      "cell_type": "code",
      "source": [
        "#THIS IS THE END OF DATA PROCESSING\n",
        "#FROM NOW ON, JUST RUN THESE TWO AND THAT IS ENOUGH\n",
        "df = pd.read_csv(\"/content/final_processed_data.csv\")\n",
        "df.head()"
      ],
      "metadata": {
        "colab": {
          "base_uri": "https://localhost:8080/",
          "height": 206
        },
        "id": "Kw77vTftZvQu",
        "outputId": "47ea401c-d88d-4953-fecc-522df57a0fe7"
      },
      "execution_count": null,
      "outputs": [
        {
          "output_type": "execute_result",
          "data": {
            "text/plain": [
              "   type  I  S  T  J                                              posts\n",
              "0  INFJ  1  0  0  1                                                  '\n",
              "1  INFJ  1  0  0  1                                                NaN\n",
              "2  INFJ  1  0  0  1  enfp and intj moments sportscenter not top ten...\n",
              "3  INFJ  1  0  0  1  what has been the most life changing experienc...\n",
              "4  INFJ  1  0  0  1                       on repeat for most of today "
            ],
            "text/html": [
              "\n",
              "  <div id=\"df-04e846dd-94bc-40c6-af24-daa2390c5d5e\">\n",
              "    <div class=\"colab-df-container\">\n",
              "      <div>\n",
              "<style scoped>\n",
              "    .dataframe tbody tr th:only-of-type {\n",
              "        vertical-align: middle;\n",
              "    }\n",
              "\n",
              "    .dataframe tbody tr th {\n",
              "        vertical-align: top;\n",
              "    }\n",
              "\n",
              "    .dataframe thead th {\n",
              "        text-align: right;\n",
              "    }\n",
              "</style>\n",
              "<table border=\"1\" class=\"dataframe\">\n",
              "  <thead>\n",
              "    <tr style=\"text-align: right;\">\n",
              "      <th></th>\n",
              "      <th>type</th>\n",
              "      <th>I</th>\n",
              "      <th>S</th>\n",
              "      <th>T</th>\n",
              "      <th>J</th>\n",
              "      <th>posts</th>\n",
              "    </tr>\n",
              "  </thead>\n",
              "  <tbody>\n",
              "    <tr>\n",
              "      <th>0</th>\n",
              "      <td>INFJ</td>\n",
              "      <td>1</td>\n",
              "      <td>0</td>\n",
              "      <td>0</td>\n",
              "      <td>1</td>\n",
              "      <td>'</td>\n",
              "    </tr>\n",
              "    <tr>\n",
              "      <th>1</th>\n",
              "      <td>INFJ</td>\n",
              "      <td>1</td>\n",
              "      <td>0</td>\n",
              "      <td>0</td>\n",
              "      <td>1</td>\n",
              "      <td>NaN</td>\n",
              "    </tr>\n",
              "    <tr>\n",
              "      <th>2</th>\n",
              "      <td>INFJ</td>\n",
              "      <td>1</td>\n",
              "      <td>0</td>\n",
              "      <td>0</td>\n",
              "      <td>1</td>\n",
              "      <td>enfp and intj moments sportscenter not top ten...</td>\n",
              "    </tr>\n",
              "    <tr>\n",
              "      <th>3</th>\n",
              "      <td>INFJ</td>\n",
              "      <td>1</td>\n",
              "      <td>0</td>\n",
              "      <td>0</td>\n",
              "      <td>1</td>\n",
              "      <td>what has been the most life changing experienc...</td>\n",
              "    </tr>\n",
              "    <tr>\n",
              "      <th>4</th>\n",
              "      <td>INFJ</td>\n",
              "      <td>1</td>\n",
              "      <td>0</td>\n",
              "      <td>0</td>\n",
              "      <td>1</td>\n",
              "      <td>on repeat for most of today</td>\n",
              "    </tr>\n",
              "  </tbody>\n",
              "</table>\n",
              "</div>\n",
              "      <button class=\"colab-df-convert\" onclick=\"convertToInteractive('df-04e846dd-94bc-40c6-af24-daa2390c5d5e')\"\n",
              "              title=\"Convert this dataframe to an interactive table.\"\n",
              "              style=\"display:none;\">\n",
              "        \n",
              "  <svg xmlns=\"http://www.w3.org/2000/svg\" height=\"24px\"viewBox=\"0 0 24 24\"\n",
              "       width=\"24px\">\n",
              "    <path d=\"M0 0h24v24H0V0z\" fill=\"none\"/>\n",
              "    <path d=\"M18.56 5.44l.94 2.06.94-2.06 2.06-.94-2.06-.94-.94-2.06-.94 2.06-2.06.94zm-11 1L8.5 8.5l.94-2.06 2.06-.94-2.06-.94L8.5 2.5l-.94 2.06-2.06.94zm10 10l.94 2.06.94-2.06 2.06-.94-2.06-.94-.94-2.06-.94 2.06-2.06.94z\"/><path d=\"M17.41 7.96l-1.37-1.37c-.4-.4-.92-.59-1.43-.59-.52 0-1.04.2-1.43.59L10.3 9.45l-7.72 7.72c-.78.78-.78 2.05 0 2.83L4 21.41c.39.39.9.59 1.41.59.51 0 1.02-.2 1.41-.59l7.78-7.78 2.81-2.81c.8-.78.8-2.07 0-2.86zM5.41 20L4 18.59l7.72-7.72 1.47 1.35L5.41 20z\"/>\n",
              "  </svg>\n",
              "      </button>\n",
              "      \n",
              "  <style>\n",
              "    .colab-df-container {\n",
              "      display:flex;\n",
              "      flex-wrap:wrap;\n",
              "      gap: 12px;\n",
              "    }\n",
              "\n",
              "    .colab-df-convert {\n",
              "      background-color: #E8F0FE;\n",
              "      border: none;\n",
              "      border-radius: 50%;\n",
              "      cursor: pointer;\n",
              "      display: none;\n",
              "      fill: #1967D2;\n",
              "      height: 32px;\n",
              "      padding: 0 0 0 0;\n",
              "      width: 32px;\n",
              "    }\n",
              "\n",
              "    .colab-df-convert:hover {\n",
              "      background-color: #E2EBFA;\n",
              "      box-shadow: 0px 1px 2px rgba(60, 64, 67, 0.3), 0px 1px 3px 1px rgba(60, 64, 67, 0.15);\n",
              "      fill: #174EA6;\n",
              "    }\n",
              "\n",
              "    [theme=dark] .colab-df-convert {\n",
              "      background-color: #3B4455;\n",
              "      fill: #D2E3FC;\n",
              "    }\n",
              "\n",
              "    [theme=dark] .colab-df-convert:hover {\n",
              "      background-color: #434B5C;\n",
              "      box-shadow: 0px 1px 3px 1px rgba(0, 0, 0, 0.15);\n",
              "      filter: drop-shadow(0px 1px 2px rgba(0, 0, 0, 0.3));\n",
              "      fill: #FFFFFF;\n",
              "    }\n",
              "  </style>\n",
              "\n",
              "      <script>\n",
              "        const buttonEl =\n",
              "          document.querySelector('#df-04e846dd-94bc-40c6-af24-daa2390c5d5e button.colab-df-convert');\n",
              "        buttonEl.style.display =\n",
              "          google.colab.kernel.accessAllowed ? 'block' : 'none';\n",
              "\n",
              "        async function convertToInteractive(key) {\n",
              "          const element = document.querySelector('#df-04e846dd-94bc-40c6-af24-daa2390c5d5e');\n",
              "          const dataTable =\n",
              "            await google.colab.kernel.invokeFunction('convertToInteractive',\n",
              "                                                     [key], {});\n",
              "          if (!dataTable) return;\n",
              "\n",
              "          const docLinkHtml = 'Like what you see? Visit the ' +\n",
              "            '<a target=\"_blank\" href=https://colab.research.google.com/notebooks/data_table.ipynb>data table notebook</a>'\n",
              "            + ' to learn more about interactive tables.';\n",
              "          element.innerHTML = '';\n",
              "          dataTable['output_type'] = 'display_data';\n",
              "          await google.colab.output.renderOutput(dataTable, element);\n",
              "          const docLink = document.createElement('div');\n",
              "          docLink.innerHTML = docLinkHtml;\n",
              "          element.appendChild(docLink);\n",
              "        }\n",
              "      </script>\n",
              "    </div>\n",
              "  </div>\n",
              "  "
            ]
          },
          "metadata": {},
          "execution_count": 4
        }
      ]
    },
    {
      "cell_type": "code",
      "source": [
        "df_i = pd.read_csv(\"/content/final_processed_data_i.csv\")\n",
        "df_s = pd.read_csv(\"/content/final_processed_data_s.csv\")\n",
        "df_t = pd.read_csv(\"/content/final_processed_data_t.csv\")\n",
        "df_j = pd.read_csv(\"/content/final_processed_data_j.csv\")"
      ],
      "metadata": {
        "id": "a9rIks4ZfWl6"
      },
      "execution_count": null,
      "outputs": []
    },
    {
      "cell_type": "code",
      "source": [
        "# df[df.posts.apply(lambda x: isinstance(x, str))]\n",
        "df_i.head()"
      ],
      "metadata": {
        "colab": {
          "base_uri": "https://localhost:8080/",
          "height": 206
        },
        "id": "yvZgpydBJW29",
        "outputId": "3c1893dd-e9df-4c51-b0cf-9236f7d5d48a"
      },
      "execution_count": null,
      "outputs": [
        {
          "output_type": "execute_result",
          "data": {
            "text/plain": [
              "   type  I                                              posts\n",
              "2  INFJ  1  enfp and intj moments sportscenter not top ten...\n",
              "3  INFJ  1  what has been the most life changing experienc...\n",
              "4  INFJ  1                       on repeat for most of today \n",
              "5  INFJ  1               may the perc experience immerse you \n",
              "6  INFJ  1  the last thing my infj friend posted on his fa..."
            ],
            "text/html": [
              "\n",
              "  <div id=\"df-1b4b9f5f-8aee-4e1b-b9ee-6b243983f16c\">\n",
              "    <div class=\"colab-df-container\">\n",
              "      <div>\n",
              "<style scoped>\n",
              "    .dataframe tbody tr th:only-of-type {\n",
              "        vertical-align: middle;\n",
              "    }\n",
              "\n",
              "    .dataframe tbody tr th {\n",
              "        vertical-align: top;\n",
              "    }\n",
              "\n",
              "    .dataframe thead th {\n",
              "        text-align: right;\n",
              "    }\n",
              "</style>\n",
              "<table border=\"1\" class=\"dataframe\">\n",
              "  <thead>\n",
              "    <tr style=\"text-align: right;\">\n",
              "      <th></th>\n",
              "      <th>type</th>\n",
              "      <th>I</th>\n",
              "      <th>posts</th>\n",
              "    </tr>\n",
              "  </thead>\n",
              "  <tbody>\n",
              "    <tr>\n",
              "      <th>2</th>\n",
              "      <td>INFJ</td>\n",
              "      <td>1</td>\n",
              "      <td>enfp and intj moments sportscenter not top ten...</td>\n",
              "    </tr>\n",
              "    <tr>\n",
              "      <th>3</th>\n",
              "      <td>INFJ</td>\n",
              "      <td>1</td>\n",
              "      <td>what has been the most life changing experienc...</td>\n",
              "    </tr>\n",
              "    <tr>\n",
              "      <th>4</th>\n",
              "      <td>INFJ</td>\n",
              "      <td>1</td>\n",
              "      <td>on repeat for most of today</td>\n",
              "    </tr>\n",
              "    <tr>\n",
              "      <th>5</th>\n",
              "      <td>INFJ</td>\n",
              "      <td>1</td>\n",
              "      <td>may the perc experience immerse you</td>\n",
              "    </tr>\n",
              "    <tr>\n",
              "      <th>6</th>\n",
              "      <td>INFJ</td>\n",
              "      <td>1</td>\n",
              "      <td>the last thing my infj friend posted on his fa...</td>\n",
              "    </tr>\n",
              "  </tbody>\n",
              "</table>\n",
              "</div>\n",
              "      <button class=\"colab-df-convert\" onclick=\"convertToInteractive('df-1b4b9f5f-8aee-4e1b-b9ee-6b243983f16c')\"\n",
              "              title=\"Convert this dataframe to an interactive table.\"\n",
              "              style=\"display:none;\">\n",
              "        \n",
              "  <svg xmlns=\"http://www.w3.org/2000/svg\" height=\"24px\"viewBox=\"0 0 24 24\"\n",
              "       width=\"24px\">\n",
              "    <path d=\"M0 0h24v24H0V0z\" fill=\"none\"/>\n",
              "    <path d=\"M18.56 5.44l.94 2.06.94-2.06 2.06-.94-2.06-.94-.94-2.06-.94 2.06-2.06.94zm-11 1L8.5 8.5l.94-2.06 2.06-.94-2.06-.94L8.5 2.5l-.94 2.06-2.06.94zm10 10l.94 2.06.94-2.06 2.06-.94-2.06-.94-.94-2.06-.94 2.06-2.06.94z\"/><path d=\"M17.41 7.96l-1.37-1.37c-.4-.4-.92-.59-1.43-.59-.52 0-1.04.2-1.43.59L10.3 9.45l-7.72 7.72c-.78.78-.78 2.05 0 2.83L4 21.41c.39.39.9.59 1.41.59.51 0 1.02-.2 1.41-.59l7.78-7.78 2.81-2.81c.8-.78.8-2.07 0-2.86zM5.41 20L4 18.59l7.72-7.72 1.47 1.35L5.41 20z\"/>\n",
              "  </svg>\n",
              "      </button>\n",
              "      \n",
              "  <style>\n",
              "    .colab-df-container {\n",
              "      display:flex;\n",
              "      flex-wrap:wrap;\n",
              "      gap: 12px;\n",
              "    }\n",
              "\n",
              "    .colab-df-convert {\n",
              "      background-color: #E8F0FE;\n",
              "      border: none;\n",
              "      border-radius: 50%;\n",
              "      cursor: pointer;\n",
              "      display: none;\n",
              "      fill: #1967D2;\n",
              "      height: 32px;\n",
              "      padding: 0 0 0 0;\n",
              "      width: 32px;\n",
              "    }\n",
              "\n",
              "    .colab-df-convert:hover {\n",
              "      background-color: #E2EBFA;\n",
              "      box-shadow: 0px 1px 2px rgba(60, 64, 67, 0.3), 0px 1px 3px 1px rgba(60, 64, 67, 0.15);\n",
              "      fill: #174EA6;\n",
              "    }\n",
              "\n",
              "    [theme=dark] .colab-df-convert {\n",
              "      background-color: #3B4455;\n",
              "      fill: #D2E3FC;\n",
              "    }\n",
              "\n",
              "    [theme=dark] .colab-df-convert:hover {\n",
              "      background-color: #434B5C;\n",
              "      box-shadow: 0px 1px 3px 1px rgba(0, 0, 0, 0.15);\n",
              "      filter: drop-shadow(0px 1px 2px rgba(0, 0, 0, 0.3));\n",
              "      fill: #FFFFFF;\n",
              "    }\n",
              "  </style>\n",
              "\n",
              "      <script>\n",
              "        const buttonEl =\n",
              "          document.querySelector('#df-1b4b9f5f-8aee-4e1b-b9ee-6b243983f16c button.colab-df-convert');\n",
              "        buttonEl.style.display =\n",
              "          google.colab.kernel.accessAllowed ? 'block' : 'none';\n",
              "\n",
              "        async function convertToInteractive(key) {\n",
              "          const element = document.querySelector('#df-1b4b9f5f-8aee-4e1b-b9ee-6b243983f16c');\n",
              "          const dataTable =\n",
              "            await google.colab.kernel.invokeFunction('convertToInteractive',\n",
              "                                                     [key], {});\n",
              "          if (!dataTable) return;\n",
              "\n",
              "          const docLinkHtml = 'Like what you see? Visit the ' +\n",
              "            '<a target=\"_blank\" href=https://colab.research.google.com/notebooks/data_table.ipynb>data table notebook</a>'\n",
              "            + ' to learn more about interactive tables.';\n",
              "          element.innerHTML = '';\n",
              "          dataTable['output_type'] = 'display_data';\n",
              "          await google.colab.output.renderOutput(dataTable, element);\n",
              "          const docLink = document.createElement('div');\n",
              "          docLink.innerHTML = docLinkHtml;\n",
              "          element.appendChild(docLink);\n",
              "        }\n",
              "      </script>\n",
              "    </div>\n",
              "  </div>\n",
              "  "
            ]
          },
          "metadata": {},
          "execution_count": 8
        }
      ]
    },
    {
      "cell_type": "code",
      "source": [
        "df_i.dropna(inplace=True)\n",
        "df_i = df_i.astype({'posts':'string'})\n",
        "print(df_i.dtypes)\n",
        "df_i = df_i.loc[df_i['posts'].str.len() > 5]"
      ],
      "metadata": {
        "colab": {
          "base_uri": "https://localhost:8080/"
        },
        "id": "rHjIA0OxJ0k8",
        "outputId": "dd0c8ee3-2158-4bdd-878c-a8eb2bc9728d"
      },
      "execution_count": null,
      "outputs": [
        {
          "output_type": "stream",
          "name": "stdout",
          "text": [
            "type     object\n",
            "I         int64\n",
            "posts    string\n",
            "dtype: object\n"
          ]
        }
      ]
    },
    {
      "cell_type": "markdown",
      "source": [
        "### Visualization"
      ],
      "metadata": {
        "id": "k47--dcawk6y"
      }
    },
    {
      "cell_type": "code",
      "source": [
        "#Need df with header to run, otherwise it won't work\n",
        "plt.figure(figsize=(6,5))\n",
        "plt.title(\"Number of records of T and F\")\n",
        "plot = sn.countplot(x = \"T\", data = df_t)\n",
        "for p in plot.patches :\n",
        "  plot.annotate(p.get_height(),(p.get_x()+0.1 ,p.get_height()+50))"
      ],
      "metadata": {
        "id": "Ll_8S6bxwnPT",
        "colab": {
          "base_uri": "https://localhost:8080/",
          "height": 350
        },
        "outputId": "27369e74-e607-4985-d2c5-26d2ddad3289"
      },
      "execution_count": null,
      "outputs": [
        {
          "output_type": "display_data",
          "data": {
            "text/plain": [
              "<Figure size 432x360 with 1 Axes>"
            ],
            "image/png": "[encoded data removed]"
          },
          "metadata": {
            "needs_background": "light"
          }
        }
      ]
    },
    {
      "cell_type": "markdown",
      "metadata": {
        "id": "CRoy5N329ViR"
      },
      "source": [
        "### Primary Model"
      ]
    },
    {
      "cell_type": "code",
      "execution_count": null,
      "metadata": {
        "id": "T4xdgv2J9ZlP"
      },
      "outputs": [],
      "source": [
        "class MBTI_RNN(nn.Module):\n",
        "  def __init__(self, input_size, hidden_size, num_class):\n",
        "    super(MBTI_RNN, self).__init__()\n",
        "    self.emb = nn.Embedding.from_pretrained(glove.vectors)\n",
        "    self.hidden_size = hidden_size\n",
        "    self.rnn = nn.RNN(input_size, hidden_size, batch_first=True)\n",
        "    self.fc = nn.Linear(hidden_size, num_class)\n",
        "\n",
        "  def forward(self, x):\n",
        "    x = self.emb(x)\n",
        "    h0 = torch.zeros(1, x.size(0), self.hidden_size)\n",
        "    out, __ = self.rnn(x, h0)\n",
        "    return self.fc(out[:,-1,:])"
      ]
    },
    {
      "cell_type": "code",
      "execution_count": null,
      "metadata": {
        "id": "y4q2Gpqegw6p"
      },
      "outputs": [],
      "source": [
        "def split_post_punc(post):\n",
        "    post = post.replace(\".\", \" . \").replace(\",\", \" , \").replace(\";\", \" ; \").replace(\"?\", \" ? \")\n",
        "    return post.lower().split()"
      ]
    },
    {
      "cell_type": "code",
      "execution_count": null,
      "metadata": {
        "id": "sfs3DTtSeZSU"
      },
      "outputs": [],
      "source": [
        "def get_post_words(glove_vector, feature):\n",
        "    feature_to_idx = {'I': 1,'S': 2, 'T': 3, 'J': 4}\n",
        "    train, valid, test = [], [], []\n",
        "    for i in range(len(df)):\n",
        "        if i % 29 == 0: # Only using 1/29 of data.\n",
        "            line = df.iloc[i]\n",
        "            post = lin      e[-1]\n",
        "            idxs = [glove_vector.stoi[w]        # lookup the index of word\n",
        "                    for w in split_post_punc(post)\n",
        "                    if w in glove_vector.stoi] # keep words that has an embedding\n",
        "            if not idxs: # ignore posts without any word with an embedding\n",
        "                continue\n",
        "            idxs = torch.tensor(idxs) # convert list to pytorch tensor\n",
        "            label = torch.tensor(line[feature_to_idx[feature]] == 1).long()\n",
        "            if i % 5 < 3:\n",
        "                train.append((idxs, label))\n",
        "            elif i % 5 == 4:\n",
        "                valid.append((idxs, label))\n",
        "            else:\n",
        "                test.append((idxs, label))\n",
        "    return train, valid, test"
      ]
    },
    {
      "cell_type": "code",
      "execution_count": null,
      "metadata": {
        "id": "y5aT3vs6kc0e"
      },
      "outputs": [],
      "source": [
        "train, valid, test = {}, {}, {}\n",
        "features = ['I', 'S', 'T', 'J']\n",
        "\n",
        "for feature in features:\n",
        "  train[feature], valid[feature], test[feature] = get_post_words(glove, feature)"
      ]
    },
    {
      "cell_type": "code",
      "source": [
        "for feature in features :\n",
        "  print(len(train[feature]), len(valid[feature]), len(test[feature]))"
      ],
      "metadata": {
        "colab": {
          "base_uri": "https://localhost:8080/"
        },
        "id": "pmAKl756-uKM",
        "outputId": "d241c4c0-a4d6-4ac1-bbfb-b317dcd45b6b"
      },
      "execution_count": null,
      "outputs": [
        {
          "output_type": "stream",
          "name": "stdout",
          "text": [
            "2434 811 818\n",
            "2434 811 818\n",
            "2434 811 818\n",
            "2434 811 818\n"
          ]
        }
      ]
    },
    {
      "cell_type": "code",
      "execution_count": null,
      "metadata": {
        "id": "FlaFMh3uifBk"
      },
      "outputs": [],
      "source": [
        "import random\n",
        "\n",
        "class PostBatcher:\n",
        "    def __init__(self, posts, batch_size=8, drop_last=False):\n",
        "        # store posts by length\n",
        "        self.posts_by_length = {}\n",
        "\n",
        "        for words, label in posts:\n",
        "            # compute the length of the posts\n",
        "            wlen = words.shape[0]\n",
        "\n",
        "            # put the post in the correct key inside self.posts_by_length\n",
        "            if wlen not in self.posts_by_length:\n",
        "                self.posts_by_length[wlen] = []\n",
        "            self.posts_by_length[wlen].append((words, label))\n",
        "         \n",
        "        #  create a DataLoader for each set of posts of the same length\n",
        "        self.loaders = {wlen : torch.utils.data.DataLoader(\n",
        "                                    posts,\n",
        "                                    batch_size=batch_size,\n",
        "                                    shuffle=True,\n",
        "                                    drop_last=drop_last) # omit last batch if smaller than batch_size\n",
        "            for wlen, posts in self.posts_by_length.items()}\n",
        "        \n",
        "    def __iter__(self): # called by Python to create an iterator\n",
        "        # make an iterator for every post length\n",
        "        iters = [iter(loader) for loader in self.loaders.values()] # Getting iterator of loader and putting them into a list\n",
        "        while iters:\n",
        "            # pick an iterator (a length)\n",
        "            im = random.choice(iters)\n",
        "            try:\n",
        "                yield next(im)\n",
        "            except StopIteration:\n",
        "                # no more elements in the iterator, remove it\n",
        "                iters.remove(im)"
      ]
    },
    {
      "cell_type": "code",
      "execution_count": null,
      "metadata": {
        "id": "V5XM9ewr6lBN"
      },
      "outputs": [],
      "source": [
        "def get_accuracy(model, data_loader):\n",
        "    correct, total = 0, 0\n",
        "    for posts, labels in data_loader:\n",
        "        output = model(posts)\n",
        "        pred = output.max(1, keepdim=True)[1]\n",
        "        correct += pred.eq(labels.view_as(pred)).sum().item()\n",
        "        total += labels.shape[0]\n",
        "    return correct / total"
      ]
    },
    {
      "cell_type": "code",
      "source": [
        "from torchtext.legacy.data import Field, Dataset, Example\n",
        "from torchtext.legacy import data"
      ],
      "metadata": {
        "id": "4IXJeldUUknQ"
      },
      "execution_count": null,
      "outputs": []
    },
    {
      "cell_type": "code",
      "source": [
        "LABEL_I = data.LabelField()\n",
        "LABEL_S = data.LabelField()\n",
        "LABEL_T = data.LabelField()\n",
        "LABEL_J = data.LabelField()\n",
        "POST = data.Field(tokenize=\"spacy\", tokenizer_language=\"en_core_web_sm\", lower=True)\n",
        "fields = [(\"Type\", None), ('I', LABEL_I), ('S', LABEL_S), ('T', LABEL_T), ('J', LABEL_J), ('post', POST)]\n",
        "ds = data.dataset.TabularDataset(\n",
        "        path = \"final_processed_data.csv\", \n",
        "        format = \"CSV\", \n",
        "        fields = fields,\n",
        "        skip_header = False)\n",
        "\n",
        "train, val, test = ds.split(split_ratio=[0.6,0.2,0.2])\n",
        "print(\"Length of train dataset:\",len(train))\n",
        "print(\"Length of val dataset:\",len(val))\n",
        "print(\"Length of test dataset:\",len(test))"
      ],
      "metadata": {
        "colab": {
          "base_uri": "https://localhost:8080/"
        },
        "id": "mFKZ0f53X_ed",
        "outputId": "b9e4e68c-83b8-431c-f1bb-abe5759e40c9"
      },
      "execution_count": null,
      "outputs": [
        {
          "output_type": "stream",
          "name": "stdout",
          "text": [
            "Length of train dataset: 73241\n",
            "Length of val dataset: 24414\n",
            "Length of test dataset: 24414\n"
          ]
        }
      ]
    },
    {
      "cell_type": "code",
      "source": [
        "#One hot encoding\n",
        "POST.build_vocab(train)\n",
        "print(\"Number of words:\", len(POST.vocab))\n",
        "LABEL_I.build_vocab(train)\n",
        "LABEL_S.build_vocab(train)\n",
        "LABEL_T.build_vocab(train)\n",
        "LABEL_J.build_vocab(train)\n",
        "print(\"Most common words:\", POST.vocab.freqs.most_common(5))"
      ],
      "metadata": {
        "colab": {
          "base_uri": "https://localhost:8080/"
        },
        "id": "3jYAKgupbPmL",
        "outputId": "dfcf6e2f-9214-4bf0-e7e3-51eb858ddf14"
      },
      "execution_count": null,
      "outputs": [
        {
          "output_type": "stream",
          "name": "stdout",
          "text": [
            "Number of words: 2\n",
            "Most common words: []\n"
          ]
        }
      ]
    },
    {
      "cell_type": "code",
      "source": [
        "df_i.head()"
      ],
      "metadata": {
        "colab": {
          "base_uri": "https://localhost:8080/",
          "height": 206
        },
        "id": "LAVVbmQkMRJ0",
        "outputId": "aefc3ee7-7555-4bae-e672-f5c74ad72eb2"
      },
      "execution_count": null,
      "outputs": [
        {
          "output_type": "execute_result",
          "data": {
            "text/plain": [
              "   type  I                                              posts\n",
              "2  INFJ  1  enfp and intj moments sportscenter not top ten...\n",
              "3  INFJ  1  what has been the most life changing experienc...\n",
              "4  INFJ  1                       on repeat for most of today \n",
              "5  INFJ  1               may the perc experience immerse you \n",
              "6  INFJ  1  the last thing my infj friend posted on his fa..."
            ],
            "text/html": [
              "\n",
              "  <div id=\"df-0c43baf9-5db9-44c0-bc11-70358c609a9a\">\n",
              "    <div class=\"colab-df-container\">\n",
              "      <div>\n",
              "<style scoped>\n",
              "    .dataframe tbody tr th:only-of-type {\n",
              "        vertical-align: middle;\n",
              "    }\n",
              "\n",
              "    .dataframe tbody tr th {\n",
              "        vertical-align: top;\n",
              "    }\n",
              "\n",
              "    .dataframe thead th {\n",
              "        text-align: right;\n",
              "    }\n",
              "</style>\n",
              "<table border=\"1\" class=\"dataframe\">\n",
              "  <thead>\n",
              "    <tr style=\"text-align: right;\">\n",
              "      <th></th>\n",
              "      <th>type</th>\n",
              "      <th>I</th>\n",
              "      <th>posts</th>\n",
              "    </tr>\n",
              "  </thead>\n",
              "  <tbody>\n",
              "    <tr>\n",
              "      <th>2</th>\n",
              "      <td>INFJ</td>\n",
              "      <td>1</td>\n",
              "      <td>enfp and intj moments sportscenter not top ten...</td>\n",
              "    </tr>\n",
              "    <tr>\n",
              "      <th>3</th>\n",
              "      <td>INFJ</td>\n",
              "      <td>1</td>\n",
              "      <td>what has been the most life changing experienc...</td>\n",
              "    </tr>\n",
              "    <tr>\n",
              "      <th>4</th>\n",
              "      <td>INFJ</td>\n",
              "      <td>1</td>\n",
              "      <td>on repeat for most of today</td>\n",
              "    </tr>\n",
              "    <tr>\n",
              "      <th>5</th>\n",
              "      <td>INFJ</td>\n",
              "      <td>1</td>\n",
              "      <td>may the perc experience immerse you</td>\n",
              "    </tr>\n",
              "    <tr>\n",
              "      <th>6</th>\n",
              "      <td>INFJ</td>\n",
              "      <td>1</td>\n",
              "      <td>the last thing my infj friend posted on his fa...</td>\n",
              "    </tr>\n",
              "  </tbody>\n",
              "</table>\n",
              "</div>\n",
              "      <button class=\"colab-df-convert\" onclick=\"convertToInteractive('df-0c43baf9-5db9-44c0-bc11-70358c609a9a')\"\n",
              "              title=\"Convert this dataframe to an interactive table.\"\n",
              "              style=\"display:none;\">\n",
              "        \n",
              "  <svg xmlns=\"http://www.w3.org/2000/svg\" height=\"24px\"viewBox=\"0 0 24 24\"\n",
              "       width=\"24px\">\n",
              "    <path d=\"M0 0h24v24H0V0z\" fill=\"none\"/>\n",
              "    <path d=\"M18.56 5.44l.94 2.06.94-2.06 2.06-.94-2.06-.94-.94-2.06-.94 2.06-2.06.94zm-11 1L8.5 8.5l.94-2.06 2.06-.94-2.06-.94L8.5 2.5l-.94 2.06-2.06.94zm10 10l.94 2.06.94-2.06 2.06-.94-2.06-.94-.94-2.06-.94 2.06-2.06.94z\"/><path d=\"M17.41 7.96l-1.37-1.37c-.4-.4-.92-.59-1.43-.59-.52 0-1.04.2-1.43.59L10.3 9.45l-7.72 7.72c-.78.78-.78 2.05 0 2.83L4 21.41c.39.39.9.59 1.41.59.51 0 1.02-.2 1.41-.59l7.78-7.78 2.81-2.81c.8-.78.8-2.07 0-2.86zM5.41 20L4 18.59l7.72-7.72 1.47 1.35L5.41 20z\"/>\n",
              "  </svg>\n",
              "      </button>\n",
              "      \n",
              "  <style>\n",
              "    .colab-df-container {\n",
              "      display:flex;\n",
              "      flex-wrap:wrap;\n",
              "      gap: 12px;\n",
              "    }\n",
              "\n",
              "    .colab-df-convert {\n",
              "      background-color: #E8F0FE;\n",
              "      border: none;\n",
              "      border-radius: 50%;\n",
              "      cursor: pointer;\n",
              "      display: none;\n",
              "      fill: #1967D2;\n",
              "      height: 32px;\n",
              "      padding: 0 0 0 0;\n",
              "      width: 32px;\n",
              "    }\n",
              "\n",
              "    .colab-df-convert:hover {\n",
              "      background-color: #E2EBFA;\n",
              "      box-shadow: 0px 1px 2px rgba(60, 64, 67, 0.3), 0px 1px 3px 1px rgba(60, 64, 67, 0.15);\n",
              "      fill: #174EA6;\n",
              "    }\n",
              "\n",
              "    [theme=dark] .colab-df-convert {\n",
              "      background-color: #3B4455;\n",
              "      fill: #D2E3FC;\n",
              "    }\n",
              "\n",
              "    [theme=dark] .colab-df-convert:hover {\n",
              "      background-color: #434B5C;\n",
              "      box-shadow: 0px 1px 3px 1px rgba(0, 0, 0, 0.15);\n",
              "      filter: drop-shadow(0px 1px 2px rgba(0, 0, 0, 0.3));\n",
              "      fill: #FFFFFF;\n",
              "    }\n",
              "  </style>\n",
              "\n",
              "      <script>\n",
              "        const buttonEl =\n",
              "          document.querySelector('#df-0c43baf9-5db9-44c0-bc11-70358c609a9a button.colab-df-convert');\n",
              "        buttonEl.style.display =\n",
              "          google.colab.kernel.accessAllowed ? 'block' : 'none';\n",
              "\n",
              "        async function convertToInteractive(key) {\n",
              "          const element = document.querySelector('#df-0c43baf9-5db9-44c0-bc11-70358c609a9a');\n",
              "          const dataTable =\n",
              "            await google.colab.kernel.invokeFunction('convertToInteractive',\n",
              "                                                     [key], {});\n",
              "          if (!dataTable) return;\n",
              "\n",
              "          const docLinkHtml = 'Like what you see? Visit the ' +\n",
              "            '<a target=\"_blank\" href=https://colab.research.google.com/notebooks/data_table.ipynb>data table notebook</a>'\n",
              "            + ' to learn more about interactive tables.';\n",
              "          element.innerHTML = '';\n",
              "          dataTable['output_type'] = 'display_data';\n",
              "          await google.colab.output.renderOutput(dataTable, element);\n",
              "          const docLink = document.createElement('div');\n",
              "          docLink.innerHTML = docLinkHtml;\n",
              "          element.appendChild(docLink);\n",
              "        }\n",
              "      </script>\n",
              "    </div>\n",
              "  </div>\n",
              "  "
            ]
          },
          "metadata": {},
          "execution_count": 10
        }
      ]
    },
    {
      "cell_type": "code",
      "source": [
        "df_i_new.to_csv(\"new_new_final_processed_data_i.csv\")"
      ],
      "metadata": {
        "id": "0GiNftmpMweh"
      },
      "execution_count": null,
      "outputs": []
    },
    {
      "cell_type": "code",
      "source": [
        "df_i[\"i_category\"] = df['I'].astype('category')\n",
        "df_i[\"i\"] = df_i[\"i_category\"].cat.codes\n",
        "df_i.head()"
      ],
      "metadata": {
        "colab": {
          "base_uri": "https://localhost:8080/",
          "height": 206
        },
        "id": "UFvBOwmOovFn",
        "outputId": "fca05166-012f-4154-a641-3dbf25a3db18"
      },
      "execution_count": null,
      "outputs": [
        {
          "output_type": "execute_result",
          "data": {
            "text/plain": [
              "   type  I                                              posts i_category  i\n",
              "2  INFJ  1  enfp and intj moments sportscenter not top ten...          1  1\n",
              "3  INFJ  1  what has been the most life changing experienc...          1  1\n",
              "4  INFJ  1                       on repeat for most of today           1  1\n",
              "5  INFJ  1               may the perc experience immerse you           1  1\n",
              "6  INFJ  1  the last thing my infj friend posted on his fa...          1  1"
            ],
            "text/html": [
              "\n",
              "  <div id=\"df-cefc665b-ca25-49e8-8c54-fbb313dae0d5\">\n",
              "    <div class=\"colab-df-container\">\n",
              "      <div>\n",
              "<style scoped>\n",
              "    .dataframe tbody tr th:only-of-type {\n",
              "        vertical-align: middle;\n",
              "    }\n",
              "\n",
              "    .dataframe tbody tr th {\n",
              "        vertical-align: top;\n",
              "    }\n",
              "\n",
              "    .dataframe thead th {\n",
              "        text-align: right;\n",
              "    }\n",
              "</style>\n",
              "<table border=\"1\" class=\"dataframe\">\n",
              "  <thead>\n",
              "    <tr style=\"text-align: right;\">\n",
              "      <th></th>\n",
              "      <th>type</th>\n",
              "      <th>I</th>\n",
              "      <th>posts</th>\n",
              "      <th>i_category</th>\n",
              "      <th>i</th>\n",
              "    </tr>\n",
              "  </thead>\n",
              "  <tbody>\n",
              "    <tr>\n",
              "      <th>2</th>\n",
              "      <td>INFJ</td>\n",
              "      <td>1</td>\n",
              "      <td>enfp and intj moments sportscenter not top ten...</td>\n",
              "      <td>1</td>\n",
              "      <td>1</td>\n",
              "    </tr>\n",
              "    <tr>\n",
              "      <th>3</th>\n",
              "      <td>INFJ</td>\n",
              "      <td>1</td>\n",
              "      <td>what has been the most life changing experienc...</td>\n",
              "      <td>1</td>\n",
              "      <td>1</td>\n",
              "    </tr>\n",
              "    <tr>\n",
              "      <th>4</th>\n",
              "      <td>INFJ</td>\n",
              "      <td>1</td>\n",
              "      <td>on repeat for most of today</td>\n",
              "      <td>1</td>\n",
              "      <td>1</td>\n",
              "    </tr>\n",
              "    <tr>\n",
              "      <th>5</th>\n",
              "      <td>INFJ</td>\n",
              "      <td>1</td>\n",
              "      <td>may the perc experience immerse you</td>\n",
              "      <td>1</td>\n",
              "      <td>1</td>\n",
              "    </tr>\n",
              "    <tr>\n",
              "      <th>6</th>\n",
              "      <td>INFJ</td>\n",
              "      <td>1</td>\n",
              "      <td>the last thing my infj friend posted on his fa...</td>\n",
              "      <td>1</td>\n",
              "      <td>1</td>\n",
              "    </tr>\n",
              "  </tbody>\n",
              "</table>\n",
              "</div>\n",
              "      <button class=\"colab-df-convert\" onclick=\"convertToInteractive('df-cefc665b-ca25-49e8-8c54-fbb313dae0d5')\"\n",
              "              title=\"Convert this dataframe to an interactive table.\"\n",
              "              style=\"display:none;\">\n",
              "        \n",
              "  <svg xmlns=\"http://www.w3.org/2000/svg\" height=\"24px\"viewBox=\"0 0 24 24\"\n",
              "       width=\"24px\">\n",
              "    <path d=\"M0 0h24v24H0V0z\" fill=\"none\"/>\n",
              "    <path d=\"M18.56 5.44l.94 2.06.94-2.06 2.06-.94-2.06-.94-.94-2.06-.94 2.06-2.06.94zm-11 1L8.5 8.5l.94-2.06 2.06-.94-2.06-.94L8.5 2.5l-.94 2.06-2.06.94zm10 10l.94 2.06.94-2.06 2.06-.94-2.06-.94-.94-2.06-.94 2.06-2.06.94z\"/><path d=\"M17.41 7.96l-1.37-1.37c-.4-.4-.92-.59-1.43-.59-.52 0-1.04.2-1.43.59L10.3 9.45l-7.72 7.72c-.78.78-.78 2.05 0 2.83L4 21.41c.39.39.9.59 1.41.59.51 0 1.02-.2 1.41-.59l7.78-7.78 2.81-2.81c.8-.78.8-2.07 0-2.86zM5.41 20L4 18.59l7.72-7.72 1.47 1.35L5.41 20z\"/>\n",
              "  </svg>\n",
              "      </button>\n",
              "      \n",
              "  <style>\n",
              "    .colab-df-container {\n",
              "      display:flex;\n",
              "      flex-wrap:wrap;\n",
              "      gap: 12px;\n",
              "    }\n",
              "\n",
              "    .colab-df-convert {\n",
              "      background-color: #E8F0FE;\n",
              "      border: none;\n",
              "      border-radius: 50%;\n",
              "      cursor: pointer;\n",
              "      display: none;\n",
              "      fill: #1967D2;\n",
              "      height: 32px;\n",
              "      padding: 0 0 0 0;\n",
              "      width: 32px;\n",
              "    }\n",
              "\n",
              "    .colab-df-convert:hover {\n",
              "      background-color: #E2EBFA;\n",
              "      box-shadow: 0px 1px 2px rgba(60, 64, 67, 0.3), 0px 1px 3px 1px rgba(60, 64, 67, 0.15);\n",
              "      fill: #174EA6;\n",
              "    }\n",
              "\n",
              "    [theme=dark] .colab-df-convert {\n",
              "      background-color: #3B4455;\n",
              "      fill: #D2E3FC;\n",
              "    }\n",
              "\n",
              "    [theme=dark] .colab-df-convert:hover {\n",
              "      background-color: #434B5C;\n",
              "      box-shadow: 0px 1px 3px 1px rgba(0, 0, 0, 0.15);\n",
              "      filter: drop-shadow(0px 1px 2px rgba(0, 0, 0, 0.3));\n",
              "      fill: #FFFFFF;\n",
              "    }\n",
              "  </style>\n",
              "\n",
              "      <script>\n",
              "        const buttonEl =\n",
              "          document.querySelector('#df-cefc665b-ca25-49e8-8c54-fbb313dae0d5 button.colab-df-convert');\n",
              "        buttonEl.style.display =\n",
              "          google.colab.kernel.accessAllowed ? 'block' : 'none';\n",
              "\n",
              "        async function convertToInteractive(key) {\n",
              "          const element = document.querySelector('#df-cefc665b-ca25-49e8-8c54-fbb313dae0d5');\n",
              "          const dataTable =\n",
              "            await google.colab.kernel.invokeFunction('convertToInteractive',\n",
              "                                                     [key], {});\n",
              "          if (!dataTable) return;\n",
              "\n",
              "          const docLinkHtml = 'Like what you see? Visit the ' +\n",
              "            '<a target=\"_blank\" href=https://colab.research.google.com/notebooks/data_table.ipynb>data table notebook</a>'\n",
              "            + ' to learn more about interactive tables.';\n",
              "          element.innerHTML = '';\n",
              "          dataTable['output_type'] = 'display_data';\n",
              "          await google.colab.output.renderOutput(dataTable, element);\n",
              "          const docLink = document.createElement('div');\n",
              "          docLink.innerHTML = docLinkHtml;\n",
              "          element.appendChild(docLink);\n",
              "        }\n",
              "      </script>\n",
              "    </div>\n",
              "  </div>\n",
              "  "
            ]
          },
          "metadata": {},
          "execution_count": 11
        }
      ]
    },
    {
      "cell_type": "code",
      "source": [
        "df_i_new = pd.read_csv(\"new_final_processed_data_i.csv\")\n",
        "# df_i_new.drop([\"Unnamed: 0\"], axis=1, inplace=True)"
      ],
      "metadata": {
        "id": "xXdFT6MPNhYO"
      },
      "execution_count": null,
      "outputs": []
    },
    {
      "cell_type": "code",
      "source": [
        "df_i_new.head()"
      ],
      "metadata": {
        "colab": {
          "base_uri": "https://localhost:8080/",
          "height": 206
        },
        "id": "Gkvz4L2BOFwE",
        "outputId": "7d7985c5-8a51-4d3d-cd7b-2ee8311fede0"
      },
      "execution_count": null,
      "outputs": [
        {
          "output_type": "execute_result",
          "data": {
            "text/plain": [
              "   Unnamed: 0  type  I                                              posts  \\\n",
              "0           2  INFJ  1  enfp and intj moments sportscenter not top ten...   \n",
              "1           3  INFJ  1  what has been the most life changing experienc...   \n",
              "2           4  INFJ  1                       on repeat for most of today    \n",
              "3           5  INFJ  1               may the perc experience immerse you    \n",
              "4           6  INFJ  1  the last thing my infj friend posted on his fa...   \n",
              "\n",
              "   i_category  i  \n",
              "0           1  1  \n",
              "1           1  1  \n",
              "2           1  1  \n",
              "3           1  1  \n",
              "4           1  1  "
            ],
            "text/html": [
              "\n",
              "  <div id=\"df-968a5da2-e181-46b4-b808-05e10c086e5a\">\n",
              "    <div class=\"colab-df-container\">\n",
              "      <div>\n",
              "<style scoped>\n",
              "    .dataframe tbody tr th:only-of-type {\n",
              "        vertical-align: middle;\n",
              "    }\n",
              "\n",
              "    .dataframe tbody tr th {\n",
              "        vertical-align: top;\n",
              "    }\n",
              "\n",
              "    .dataframe thead th {\n",
              "        text-align: right;\n",
              "    }\n",
              "</style>\n",
              "<table border=\"1\" class=\"dataframe\">\n",
              "  <thead>\n",
              "    <tr style=\"text-align: right;\">\n",
              "      <th></th>\n",
              "      <th>Unnamed: 0</th>\n",
              "      <th>type</th>\n",
              "      <th>I</th>\n",
              "      <th>posts</th>\n",
              "      <th>i_category</th>\n",
              "      <th>i</th>\n",
              "    </tr>\n",
              "  </thead>\n",
              "  <tbody>\n",
              "    <tr>\n",
              "      <th>0</th>\n",
              "      <td>2</td>\n",
              "      <td>INFJ</td>\n",
              "      <td>1</td>\n",
              "      <td>enfp and intj moments sportscenter not top ten...</td>\n",
              "      <td>1</td>\n",
              "      <td>1</td>\n",
              "    </tr>\n",
              "    <tr>\n",
              "      <th>1</th>\n",
              "      <td>3</td>\n",
              "      <td>INFJ</td>\n",
              "      <td>1</td>\n",
              "      <td>what has been the most life changing experienc...</td>\n",
              "      <td>1</td>\n",
              "      <td>1</td>\n",
              "    </tr>\n",
              "    <tr>\n",
              "      <th>2</th>\n",
              "      <td>4</td>\n",
              "      <td>INFJ</td>\n",
              "      <td>1</td>\n",
              "      <td>on repeat for most of today</td>\n",
              "      <td>1</td>\n",
              "      <td>1</td>\n",
              "    </tr>\n",
              "    <tr>\n",
              "      <th>3</th>\n",
              "      <td>5</td>\n",
              "      <td>INFJ</td>\n",
              "      <td>1</td>\n",
              "      <td>may the perc experience immerse you</td>\n",
              "      <td>1</td>\n",
              "      <td>1</td>\n",
              "    </tr>\n",
              "    <tr>\n",
              "      <th>4</th>\n",
              "      <td>6</td>\n",
              "      <td>INFJ</td>\n",
              "      <td>1</td>\n",
              "      <td>the last thing my infj friend posted on his fa...</td>\n",
              "      <td>1</td>\n",
              "      <td>1</td>\n",
              "    </tr>\n",
              "  </tbody>\n",
              "</table>\n",
              "</div>\n",
              "      <button class=\"colab-df-convert\" onclick=\"convertToInteractive('df-968a5da2-e181-46b4-b808-05e10c086e5a')\"\n",
              "              title=\"Convert this dataframe to an interactive table.\"\n",
              "              style=\"display:none;\">\n",
              "        \n",
              "  <svg xmlns=\"http://www.w3.org/2000/svg\" height=\"24px\"viewBox=\"0 0 24 24\"\n",
              "       width=\"24px\">\n",
              "    <path d=\"M0 0h24v24H0V0z\" fill=\"none\"/>\n",
              "    <path d=\"M18.56 5.44l.94 2.06.94-2.06 2.06-.94-2.06-.94-.94-2.06-.94 2.06-2.06.94zm-11 1L8.5 8.5l.94-2.06 2.06-.94-2.06-.94L8.5 2.5l-.94 2.06-2.06.94zm10 10l.94 2.06.94-2.06 2.06-.94-2.06-.94-.94-2.06-.94 2.06-2.06.94z\"/><path d=\"M17.41 7.96l-1.37-1.37c-.4-.4-.92-.59-1.43-.59-.52 0-1.04.2-1.43.59L10.3 9.45l-7.72 7.72c-.78.78-.78 2.05 0 2.83L4 21.41c.39.39.9.59 1.41.59.51 0 1.02-.2 1.41-.59l7.78-7.78 2.81-2.81c.8-.78.8-2.07 0-2.86zM5.41 20L4 18.59l7.72-7.72 1.47 1.35L5.41 20z\"/>\n",
              "  </svg>\n",
              "      </button>\n",
              "      \n",
              "  <style>\n",
              "    .colab-df-container {\n",
              "      display:flex;\n",
              "      flex-wrap:wrap;\n",
              "      gap: 12px;\n",
              "    }\n",
              "\n",
              "    .colab-df-convert {\n",
              "      background-color: #E8F0FE;\n",
              "      border: none;\n",
              "      border-radius: 50%;\n",
              "      cursor: pointer;\n",
              "      display: none;\n",
              "      fill: #1967D2;\n",
              "      height: 32px;\n",
              "      padding: 0 0 0 0;\n",
              "      width: 32px;\n",
              "    }\n",
              "\n",
              "    .colab-df-convert:hover {\n",
              "      background-color: #E2EBFA;\n",
              "      box-shadow: 0px 1px 2px rgba(60, 64, 67, 0.3), 0px 1px 3px 1px rgba(60, 64, 67, 0.15);\n",
              "      fill: #174EA6;\n",
              "    }\n",
              "\n",
              "    [theme=dark] .colab-df-convert {\n",
              "      background-color: #3B4455;\n",
              "      fill: #D2E3FC;\n",
              "    }\n",
              "\n",
              "    [theme=dark] .colab-df-convert:hover {\n",
              "      background-color: #434B5C;\n",
              "      box-shadow: 0px 1px 3px 1px rgba(0, 0, 0, 0.15);\n",
              "      filter: drop-shadow(0px 1px 2px rgba(0, 0, 0, 0.3));\n",
              "      fill: #FFFFFF;\n",
              "    }\n",
              "  </style>\n",
              "\n",
              "      <script>\n",
              "        const buttonEl =\n",
              "          document.querySelector('#df-968a5da2-e181-46b4-b808-05e10c086e5a button.colab-df-convert');\n",
              "        buttonEl.style.display =\n",
              "          google.colab.kernel.accessAllowed ? 'block' : 'none';\n",
              "\n",
              "        async function convertToInteractive(key) {\n",
              "          const element = document.querySelector('#df-968a5da2-e181-46b4-b808-05e10c086e5a');\n",
              "          const dataTable =\n",
              "            await google.colab.kernel.invokeFunction('convertToInteractive',\n",
              "                                                     [key], {});\n",
              "          if (!dataTable) return;\n",
              "\n",
              "          const docLinkHtml = 'Like what you see? Visit the ' +\n",
              "            '<a target=\"_blank\" href=https://colab.research.google.com/notebooks/data_table.ipynb>data table notebook</a>'\n",
              "            + ' to learn more about interactive tables.';\n",
              "          element.innerHTML = '';\n",
              "          dataTable['output_type'] = 'display_data';\n",
              "          await google.colab.output.renderOutput(dataTable, element);\n",
              "          const docLink = document.createElement('div');\n",
              "          docLink.innerHTML = docLinkHtml;\n",
              "          element.appendChild(docLink);\n",
              "        }\n",
              "      </script>\n",
              "    </div>\n",
              "  </div>\n",
              "  "
            ]
          },
          "metadata": {},
          "execution_count": 14
        }
      ]
    },
    {
      "cell_type": "code",
      "source": [
        "LABEL_I = data.LabelField()\n",
        "POST = data.Field(tokenize=\"spacy\", tokenizer_language=\"en_core_web_sm\", lower=True)\n",
        "fields = [(\"Unnamed: 0\", None), (\"Type\", None), ('I', LABEL_I), ('post', POST)]\n",
        "print(fields)\n",
        "ds = data.dataset.TabularDataset(\n",
        "        path = \"new_final_processed_data_i.csv\", \n",
        "        format = \"CSV\", \n",
        "        fields = fields,\n",
        "        skip_header = True)\n",
        "\n",
        "(train, val, test) = ds.split(split_ratio=[0.6,0.2,0.2], stratified=True, strata_field=\"I\")\n",
        "print(\"Length of train dataset:\",len(train))\n",
        "print(\"Length of val dataset:\",len(val))\n",
        "print(\"Length of test dataset:\",len(test))"
      ],
      "metadata": {
        "colab": {
          "base_uri": "https://localhost:8080/"
        },
        "id": "GyI4LS8BoruH",
        "outputId": "e2753efa-13e3-40cb-de18-8bab4508d225"
      },
      "execution_count": null,
      "outputs": [
        {
          "output_type": "stream",
          "name": "stdout",
          "text": [
            "[('Unnamed: 0', None), ('Type', None), ('I', <torchtext.legacy.data.field.LabelField object at 0x7fac306cdb50>), ('post', <torchtext.legacy.data.field.Field object at 0x7fac306cdb10>)]\n",
            "Length of train dataset: 70252\n",
            "Length of val dataset: 23416\n",
            "Length of test dataset: 23418\n"
          ]
        }
      ]
    },
    {
      "cell_type": "code",
      "source": [
        "#One hot encoding\n",
        "vocab_size = 50000\n",
        "POST.build_vocab(train, max_size=vocab_size)\n",
        "print(\"Number of words:\", len(POST.vocab))\n",
        "LABEL_I.build_vocab(train)\n",
        "print(\"Most common words:\", POST.vocab.freqs.most_common(5))\n",
        "print(\"Number of categories:\", len(LABEL_I.vocab))"
      ],
      "metadata": {
        "colab": {
          "base_uri": "https://localhost:8080/"
        },
        "id": "FPVSeGUkpZ56",
        "outputId": "4b445e9d-d0a2-4f75-cbf4-75655866488d"
      },
      "execution_count": null,
      "outputs": [
        {
          "output_type": "stream",
          "name": "stdout",
          "text": [
            "Number of words: 44446\n",
            "Most common words: [('i', 110311), ('the', 53890), ('to', 52879), ('and', 42439), ('a', 42420)]\n",
            "Number of categories: 2\n"
          ]
        }
      ]
    },
    {
      "cell_type": "code",
      "source": [
        "class LSTMModel(nn.Module):\n",
        "    def __init__(self, hidden_size, embedding_dim, vocab_size):\n",
        "        super(LSTMModel, self).__init__()\n",
        "        self.embedding = nn.Embedding(vocab_size, embedding_dim)\n",
        "        self.encoder = nn.LSTM(input_size=embedding_dim, hidden_size=hidden_size, num_layers=1)\n",
        "        self.predictor = nn.Linear(hidden_size, 2)\n",
        "        pass\n",
        "    \n",
        "    def forward(self, seq):\n",
        "        output, (hidden,_) = self.encoder(self.embedding(seq))\n",
        "        preds = self.predictor(hidden.squeeze(0))\n",
        "        return preds\n",
        "        pass"
      ],
      "metadata": {
        "id": "HqrP1jU3p8OI"
      },
      "execution_count": null,
      "outputs": []
    },
    {
      "cell_type": "code",
      "source": [
        "train_loader, val_loader, test_loader = data.BucketIterator.splits(\n",
        "    (train, val, test),\n",
        "    batch_size = 256,\n",
        "    device = device,\n",
        "    sort_key = lambda x: len(x.post),\n",
        "    sort_within_batch = False)"
      ],
      "metadata": {
        "id": "H4vLah_hoh9X"
      },
      "execution_count": null,
      "outputs": []
    },
    {
      "cell_type": "code",
      "source": [
        "import time \n",
        "def train_rnn_network_all(model, train_loader, val_loader, num_epochs=10, learning_rate=1e-5) :\n",
        "  criterion = nn.CrossEntropyLoss()\n",
        "  optimizer = torch.optim.Adam(model.parameters(), lr=learning_rate)\n",
        "  training_loss_i_list, training_loss_s_list, training_loss_t_list, training_loss_j_list = [], [], [], []\n",
        "  val_loss_i_list, val_loss_s_list, val_loss_t_list, val_loss_j_list = [], [], [], []\n",
        "  for epoch in range(num_epochs) :\n",
        "    start_time = time.time()\n",
        "    training_loss_i = 0.0\n",
        "    training_loss_s = 0.0\n",
        "    training_loss_t = 0.0\n",
        "    training_loss_j = 0.0\n",
        "    val_loss_i = 0.0\n",
        "    val_loss_s = 0.0\n",
        "    val_loss_t = 0.0\n",
        "    val_loss_j = 0.0\n",
        "    for batch_id, batch in enumerate(train_loader) :\n",
        "      post = batch.post \n",
        "      mbti_i = batch.I\n",
        "      mbti_s = batch.S\n",
        "      mbti_t = batch.T\n",
        "      mbti_j = batch.T\n",
        "      optimizer.zero_grad()\n",
        "      pred = model(post)\n",
        "      loss_i = criterion(pred, mbti_i)\n",
        "      loss_s = criterion(pred, mbti_s)\n",
        "      loss_t = criterion(pred, mbti_t)\n",
        "      loss_j = criterion(pred, mbti_j)\n",
        "      loss_i.backward(retain_graph=True)\n",
        "      loss_s.backward(retain_graph=True)\n",
        "      loss_t.backward(retain_graph=True)\n",
        "      loss_j.backward(retain_graph=True)\n",
        "      optimizer.step()\n",
        "      training_loss_i += loss_i.data.item() * post.size(0)\n",
        "      training_loss_s += loss_s.data.item() * post.size(0)\n",
        "      training_loss_t += loss_t.data.item() * post.size(0)\n",
        "      training_loss_j += loss_j.data.item() * post.size(0)\n",
        "    training_loss_i /= len(train_loader)\n",
        "    training_loss_s /= len(train_loader)\n",
        "    training_loss_t /= len(train_loader)\n",
        "    training_loss_j /= len(train_loader)\n",
        "    model.eval()\n",
        "\n",
        "    for batch_id, batch in enumerate(val_loader) :\n",
        "      post = batch.post \n",
        "      mbti_i = batch.I\n",
        "      mbti_s = batch.S\n",
        "      mbti_t = batch.T\n",
        "      mbti_j = batch.T\n",
        "      pred = model(post)\n",
        "      loss_i = criterion(pred, mbti_i)\n",
        "      loss_s = criterion(pred, mbti_s)\n",
        "      loss_t = criterion(pred, mbti_t)\n",
        "      loss_j = criterion(pred, mbti_j)\n",
        "      val_loss_i += loss_i.data.item() * post.size(0)\n",
        "      val_loss_s += loss_s.data.item() * post.size(0)\n",
        "      val_loss_t += loss_t.data.item() * post.size(0)\n",
        "      val_loss_j += loss_j.data.item() * post.size(0)\n",
        "    val_loss_i /= len(val_loader)\n",
        "    val_loss_s /= len(val_loader)\n",
        "    val_loss_t /= len(val_loader)\n",
        "    val_loss_j /= len(val_loader)\n",
        "    \n",
        "    print((\"Epoch {}: Train_i loss: {}, Train_s loss: {}, Train_t loss: {}, Train_j loss: {} \" +\n",
        "               \"Val_i loss: {}, Val_s loss: {}, Val_t loss: {}, Val_j loss: {}\").format(\n",
        "                   epoch + 1,\n",
        "                   training_loss_i,\n",
        "                   training_loss_s,\n",
        "                   training_loss_t,\n",
        "                   training_loss_j,\n",
        "                   val_loss_i,\n",
        "                   val_loss_s,\n",
        "                   val_loss_t,\n",
        "                   val_loss_j,\n",
        "                   ))"
      ],
      "metadata": {
        "id": "KJJXIeNURUwJ"
      },
      "execution_count": null,
      "outputs": []
    },
    {
      "cell_type": "code",
      "source": [
        "def get_accuracy_single(model, data_loader) :\n",
        "  correct, total = 0,0\n",
        "  for batch_id, batch in enumerate(data_loader) :\n",
        "    post = batch.post\n",
        "    mbti_i = batch.I\n",
        "    output = model(post)\n",
        "    pred = output.max(1, keepdim=True)[1]\n",
        "    correct += pred.eq(mbti_i.view_as(pred)).sum().item()\n",
        "    total += mbti_i.shape[0]\n",
        "  return correct / total"
      ],
      "metadata": {
        "id": "zTLfx7iDUsg1"
      },
      "execution_count": null,
      "outputs": []
    },
    {
      "cell_type": "code",
      "source": [
        "import time \n",
        "import matplotlib.pyplot as plt\n",
        "def train_rnn_network_single(model, train_loader, val_loader, num_epochs=10, learning_rate=1e-5) :\n",
        "  torch.manual_seed(1000)\n",
        "  criterion = nn.CrossEntropyLoss()\n",
        "  optimizer = torch.optim.Adam(model.parameters(), lr=learning_rate)\n",
        "  training_loss_list = []\n",
        "  val_loss_list = []\n",
        "  training_acc_list = []\n",
        "  val_acc_list = []\n",
        "  for epoch in range(num_epochs) :\n",
        "    print(\"Starting epoch #\", epoch+1)\n",
        "    start_time_epoch = time.time()\n",
        "    training_loss = 0.0\n",
        "    val_loss = 0.0\n",
        "    iteration_no = 0\n",
        "    for batch_id, batch in enumerate(train_loader) :\n",
        "      iteration_no += 1\n",
        "      # faulty_value = False\n",
        "      post = batch.post \n",
        "      mbti_i = batch.I\n",
        "      # for value in mbti_i :\n",
        "      #   if value.item() != 0 and value.item() != 1 :\n",
        "      #     faulty_value = True\n",
        "      #     break\n",
        "      # if faulty_value == True :\n",
        "      #   continue\n",
        "      optimizer.zero_grad()\n",
        "      pred = model(post)\n",
        "      loss = criterion(pred, mbti_i)\n",
        "      loss.backward(retain_graph=True)\n",
        "      optimizer.step()\n",
        "      training_loss += loss.data.item() * post.size(0)\n",
        "    training_loss /= len(train_loader)\n",
        "    training_loss_list.append(training_loss)\n",
        "    training_acc_list.append(get_accuracy_single(model, train_loader))\n",
        "    model.eval()\n",
        "\n",
        "    for batch_id, batch in enumerate(val_loader) :\n",
        "      post = batch.post \n",
        "      mbti_i = batch.I\n",
        "      pred = model(post)\n",
        "      loss = criterion(pred, mbti_i)\n",
        "      val_loss += loss.data.item() * post.size(0)\n",
        "    val_loss /= len(val_loader)\n",
        "    val_loss_list.append(val_loss)\n",
        "    val_acc_list.append(get_accuracy_single(model, val_loader))\n",
        "    \n",
        "    end_time_epoch = time.time()\n",
        "    print((\"Epoch {}: Train_i loss: {}, Train_i acc: {}, \" +\n",
        "               \"Val_i loss: {}, Val_i acc: {}, Time: {}\").format(\n",
        "                   epoch + 1,\n",
        "                   training_loss,\n",
        "                   training_acc_list[-1],\n",
        "                   val_loss,\n",
        "                   val_acc_list[-1],\n",
        "                   end_time_epoch - start_time_epoch\n",
        "                   ))\n",
        "  plt.title(\"Losses\")\n",
        "  plt.plot(training_loss_list, label=\"train_loss\")\n",
        "  plt.plot(val_loss_list, label=\"val_loss\")\n",
        "  plt.xlabel(\"Epoch\")\n",
        "  plt.ylabel(\"Loss\")\n",
        "  plt.legend(loc=\"best\")\n",
        "  plt.show()\n",
        "\n",
        "  plt.title(\"Accuracy\")\n",
        "  plt.plot(training_acc_list, label=\"train_acc\")\n",
        "  plt.plot(val_acc_list, label=\"val_acc\")\n",
        "  plt.xlabel(\"Epoch\")\n",
        "  plt.ylabel(\"Accuracy\")\n",
        "  plt.legend(loc=\"best\")\n",
        "  plt.show()"
      ],
      "metadata": {
        "id": "fX8P1b2vp_N5"
      },
      "execution_count": null,
      "outputs": []
    },
    {
      "cell_type": "code",
      "source": [
        "lstm_1 = LSTMModel(hidden_size=100, embedding_dim=300, vocab_size=vocab_size)\n",
        "lstm_1.to(device)"
      ],
      "metadata": {
        "colab": {
          "base_uri": "https://localhost:8080/"
        },
        "id": "m3ZKSPJIeGqA",
        "outputId": "786b2846-3b2b-484a-8b28-e3c9a4448596"
      },
      "execution_count": null,
      "outputs": [
        {
          "output_type": "execute_result",
          "data": {
            "text/plain": [
              "LSTMModel(\n",
              "  (embedding): Embedding(50000, 300)\n",
              "  (encoder): LSTM(300, 100)\n",
              "  (predictor): Linear(in_features=100, out_features=2, bias=True)\n",
              ")"
            ]
          },
          "metadata": {},
          "execution_count": 23
        }
      ]
    },
    {
      "cell_type": "code",
      "source": [
        "# criterion = nn.CrossEntropyLoss()\n",
        "# optimizer = torch.optim.Adam(lstm_1.parameters(), lr=1e-5)\n",
        "# for batch_id, batch in enumerate(train_loader) :\n",
        "#   faulty_value = False\n",
        "#   post = batch.post\n",
        "#   mbti_i = batch.I\n",
        "#   for thing in mbti_i :\n",
        "#     if thing.item() != 0 and thing.item() != 1 :\n",
        "#       print(thing.item())\n",
        "#       faulty_value = True\n",
        "#       break\n",
        "#   if faulty_value == True :\n",
        "#     continue\n",
        "#   optimizer.zero_grad() #clear gradients\n",
        "#   pred = lstm_1(post)\n",
        "#   loss = criterion(pred, mbti_i)\n",
        "\n"
      ],
      "metadata": {
        "colab": {
          "base_uri": "https://localhost:8080/"
        },
        "id": "5Pl_4sMedYfD",
        "outputId": "e75c3162-7086-4ff3-84ea-8fa91a91ee6f"
      },
      "execution_count": null,
      "outputs": [
        {
          "output_type": "stream",
          "name": "stdout",
          "text": [
            "2\n"
          ]
        }
      ]
    },
    {
      "cell_type": "code",
      "source": [
        "train_rnn_network_single(lstm_1, train_loader, val_loader)"
      ],
      "metadata": {
        "colab": {
          "base_uri": "https://localhost:8080/",
          "height": 940
        },
        "id": "yzcxcrKtprV6",
        "outputId": "bfe9f535-2913-4a44-9a71-899014de82b8"
      },
      "execution_count": null,
      "outputs": [
        {
          "output_type": "stream",
          "name": "stdout",
          "text": [
            "Starting epoch # 1\n",
            "Epoch 1: Train_i loss: 26.252849920554596, Train_i acc: 0.7588538404600581, Val_i loss: 18.236879809719063, Val_i acc: 0.6456696276050564, Time: 184.8785045146942\n",
            "Starting epoch # 2\n",
            "Epoch 2: Train_i loss: 25.833388743400572, Train_i acc: 0.7591100609235324, Val_i loss: 18.116471615174543, Val_i acc: 0.6549795011957635, Time: 181.24661684036255\n",
            "Starting epoch # 3\n",
            "Epoch 3: Train_i loss: 25.84255947774107, Train_i acc: 0.7590531230427604, Val_i loss: 18.06089464251114, Val_i acc: 0.6628373761530577, Time: 176.33395147323608\n",
            "Starting epoch # 4\n",
            "Epoch 4: Train_i loss: 25.80605654467236, Train_i acc: 0.7594089847975858, Val_i loss: 17.929137054020945, Val_i acc: 0.670097369320123, Time: 174.50157976150513\n",
            "Starting epoch # 5\n",
            "Epoch 5: Train_i loss: 25.8058122000911, Train_i acc: 0.759551329499516, Val_i loss: 17.824361713036247, Val_i acc: 0.676289716433208, Time: 190.69156980514526\n",
            "Starting epoch # 6\n",
            "Epoch 6: Train_i loss: 25.808363238031212, Train_i acc: 0.7595797984399021, Val_i loss: 17.7420542165637, Val_i acc: 0.6823539460198155, Time: 183.99162983894348\n",
            "Starting epoch # 7\n",
            "Epoch 7: Train_i loss: 25.77957323724573, Train_i acc: 0.7596936742014462, Val_i loss: 17.66976261883974, Val_i acc: 0.6891868807652887, Time: 195.03873538970947\n",
            "Starting epoch # 8\n",
            "Epoch 8: Train_i loss: 25.78853346943855, Train_i acc: 0.7597079086716393, Val_i loss: 17.551760370316714, Val_i acc: 0.6946532285616672, Time: 171.54835486412048\n",
            "Starting epoch # 9\n",
            "Epoch 9: Train_i loss: 25.80398180907423, Train_i acc: 0.7596082673802881, Val_i loss: 17.506213317098826, Val_i acc: 0.6998633413050905, Time: 162.51021718978882\n",
            "Starting epoch # 10\n",
            "Epoch 10: Train_i loss: 25.769208996079186, Train_i acc: 0.7598644878437625, Val_i loss: 17.376359954152417, Val_i acc: 0.7047745131533993, Time: 160.36296319961548\n"
          ]
        },
        {
          "output_type": "display_data",
          "data": {
            "text/plain": [
              "<Figure size 432x288 with 1 Axes>"
            ],
            "image/png": "[encoded data removed]"
          },
          "metadata": {
            "needs_background": "light"
          }
        },
        {
          "output_type": "display_data",
          "data": {
            "text/plain": [
              "<Figure size 432x288 with 1 Axes>"
            ],
            "image/png": "[encoded data removed]"
          },
          "metadata": {
            "needs_background": "light"
          }
        }
      ]
    },
    {
      "cell_type": "code",
      "source": [
        "test_acc = get_accuracy_single(lstm_1, test_loader)\n",
        "print(\"Test Accuracy:\", test_acc)"
      ],
      "metadata": {
        "colab": {
          "base_uri": "https://localhost:8080/"
        },
        "id": "UhbBxm6fmylJ",
        "outputId": "35e92069-da82-4b1e-b0fe-b58edfb105b4"
      },
      "execution_count": null,
      "outputs": [
        {
          "output_type": "stream",
          "name": "stdout",
          "text": [
            "Test Accuracy: 0.6861815697326843\n"
          ]
        }
      ]
    },
    {
      "cell_type": "code",
      "execution_count": null,
      "metadata": {
        "id": "IOMDl7Qh2zXy"
      },
      "outputs": [],
      "source": [
        "import time\n",
        "def train_rnn_network(model, train, valid, num_epochs=5, learning_rate=1e-5):\n",
        "    criterion = nn.CrossEntropyLoss()\n",
        "    optimizer = torch.optim.Adam(model.parameters(), lr=learning_rate)\n",
        "    \n",
        "    losses, train_acc, valid_acc = [], [], []\n",
        "    epochs = []\n",
        "    total_start_time = time.time()\n",
        "    for epoch in range(num_epochs):\n",
        "        epoch_start_time = time.time()\n",
        "        for posts, labels in train:\n",
        "            optimizer.zero_grad()\n",
        "            print(posts)\n",
        "            torch.tensor(train).to(torch.int64)\n",
        "            pred = model(posts)\n",
        "            loss = criterion(pred, labels)\n",
        "            loss.backward()\n",
        "            optimizer.step()\n",
        "        losses.append(float(loss))\n",
        "\n",
        "        epochs.append(epoch)\n",
        "        train_acc.append(get_accuracy(model, train_loader))\n",
        "        valid_acc.append(get_accuracy(model, valid_loader))\n",
        "\n",
        "        epoch_end_time = time.time()\n",
        "        print(\"Epoch %d; Loss %f; Train Acc %f; Val Acc %f  [%f s]\" % (\n",
        "              epoch+1, loss, train_acc[-1], valid_acc[-1], epoch_end_time - epoch_start_time))\n",
        "        \n",
        "    total_end_time = time.time()\n",
        "    print(\"Total time taken:\", total_end_time - total_start_time)\n",
        "    # plotting\n",
        "    plt.title(\"Training Curve\")\n",
        "    plt.plot(losses, label=\"Train\")\n",
        "    plt.xlabel(\"Epoch\")\n",
        "    plt.ylabel(\"Loss\")\n",
        "    plt.show()\n",
        "\n",
        "    plt.title(\"Training Curve\")\n",
        "    plt.plot(epochs, train_acc, label=\"Train\")\n",
        "    plt.plot(epochs, valid_acc, label=\"Validation\")\n",
        "    plt.xlabel(\"Epoch\")\n",
        "    plt.ylabel(\"Accuracy\")\n",
        "    plt.legend(loc='best')\n",
        "    plt.show()"
      ]
    },
    {
      "cell_type": "code",
      "execution_count": null,
      "metadata": {
        "colab": {
          "base_uri": "https://localhost:8080/",
          "height": 1000
        },
        "id": "ImGISH4-1Xql",
        "outputId": "970e67a3-f85c-4c50-e659-98a9e212ed49"
      },
      "outputs": [
        {
          "output_type": "stream",
          "name": "stdout",
          "text": [
            "tensor([[ 6.9872e+00,  4.6947e-02, -8.3909e-01, -6.8809e+00,  1.3470e+01,\n",
            "          4.7514e+00, -1.0213e+01,  4.7554e-01, -5.9182e+00,  2.5708e-01,\n",
            "         -2.1080e+00,  4.9979e+00, -1.4436e+01, -3.2947e+00,  1.4387e+01,\n",
            "          9.4158e+00,  2.9626e+00, -3.1007e-01, -4.7478e+00, -1.4035e+01,\n",
            "         -4.7855e-01,  8.1401e+00,  7.5582e+00, -6.4734e-01,  9.3562e+00,\n",
            "         -5.5092e+01, -1.3058e+01,  7.4398e+00,  1.0719e+01, -1.2014e+01,\n",
            "          9.4595e+01,  5.3144e+00, -1.0077e+01, -9.3690e+00, -3.9343e+00,\n",
            "         -4.4342e+00,  1.9475e+00,  4.3281e+00,  9.1154e-01, -6.4024e+00,\n",
            "         -4.1432e+00,  1.3168e+00, -2.5038e+00,  9.6003e+00, -2.9440e+00,\n",
            "          2.1393e+00, -5.0181e+00,  6.1427e-01, -2.2495e+00, -5.7065e-01],\n",
            "        [ 6.1026e+00,  7.5341e+00, -3.2723e+00, -4.8527e+00,  1.3644e+01,\n",
            "          6.8615e+00, -1.2324e+01, -4.1955e+00, -5.2547e+00,  3.6178e+00,\n",
            "         -3.3282e+00,  9.3943e+00, -1.2248e+01, -3.1633e-01,  1.6634e+01,\n",
            "          5.6004e+00,  9.1109e+00,  4.3908e+00, -1.0777e+01, -7.1648e+00,\n",
            "         -7.5904e+00,  6.5946e+00,  6.1945e+00,  6.0274e+00,  9.9345e+00,\n",
            "         -4.8775e+01, -2.0014e+01,  8.4579e+00,  9.7377e+00, -1.4673e+01,\n",
            "          8.7176e+01,  1.6842e+00, -5.0485e+00, -6.5350e+00,  1.7813e+00,\n",
            "          7.0505e-02,  3.0615e+00, -2.6235e+00, -8.6184e-01, -1.5750e+01,\n",
            "         -4.2897e+00,  4.2898e+00, -5.0089e+00,  6.3818e-01, -2.5976e+00,\n",
            "          2.5857e+00,  4.2220e-01, -6.1277e+00,  4.5038e-01,  4.7655e+00],\n",
            "        [ 1.0507e+01,  8.8433e+00, -4.4143e+00, -9.7541e+00,  2.3251e+01,\n",
            "          7.7780e+00, -2.2313e+01,  2.2369e+00, -1.1313e+01, -4.8414e+00,\n",
            "         -1.1016e+00,  8.3438e+00, -1.7239e+01, -7.9918e+00,  2.2858e+01,\n",
            "          1.7699e+00, -7.2828e+00,  4.6209e+00, -8.5105e+00, -1.4867e+01,\n",
            "          2.4098e+00,  1.9859e+01,  1.1752e+01,  3.9518e+00,  7.6953e+00,\n",
            "         -7.0820e+01, -2.1917e+01,  1.5146e+00,  1.3463e+01, -1.9837e+01,\n",
            "          1.2870e+02,  1.0043e+01, -1.1470e+01, -5.0297e+00,  3.9467e+00,\n",
            "          1.2998e+00,  3.2067e+00,  4.1965e+00,  1.2209e+01, -5.4198e+00,\n",
            "         -4.6010e+00,  2.4338e+00, -1.9980e+00,  5.9971e+00,  4.6594e+00,\n",
            "         -1.8816e+00, -1.0488e+01, -1.7724e+01, -5.4151e-01,  1.3934e-01],\n",
            "        [ 4.0106e+00,  2.0407e+00,  2.5143e+00, -8.4761e+00,  6.9120e+00,\n",
            "         -3.0714e+00, -6.7149e+00, -1.2156e+00, -4.1323e+00,  2.2827e-01,\n",
            "         -5.7554e-01,  1.7696e+00, -5.9051e+00,  2.7998e+00,  6.8150e+00,\n",
            "          6.0495e+00,  4.2940e+00, -9.8223e-01, -3.3809e+00, -6.1908e+00,\n",
            "         -2.8231e+00,  4.2596e+00,  7.6086e+00,  2.6431e+00,  5.9444e+00,\n",
            "         -2.6020e+01, -7.3508e+00,  6.6545e+00,  7.2998e+00, -4.6483e+00,\n",
            "          5.3755e+01,  3.3133e+00, -2.1921e+00,  9.0853e-01, -3.8118e+00,\n",
            "         -1.0314e+00,  1.7863e+00,  5.3316e+00,  1.9987e-01, -5.4567e+00,\n",
            "         -1.4852e-01,  8.4584e-02,  4.7900e-01,  3.9979e+00,  2.4658e+00,\n",
            "         -1.3444e+00, -1.6823e+00, -7.6096e+00, -1.6322e+00, -6.8974e-01],\n",
            "        [ 1.0093e+01,  2.7835e+00,  3.7103e+00, -1.2008e+01,  1.4493e+01,\n",
            "          1.9260e+00, -1.7383e+01,  4.3389e+00, -8.4937e+00,  4.2281e+00,\n",
            "         -5.7310e+00,  1.0583e+01, -1.2524e+01,  4.0012e-01,  2.3488e+01,\n",
            "          9.9206e+00,  2.1413e+00, -3.0598e+00, -2.6761e+00, -2.1498e+01,\n",
            "         -1.5694e+00,  1.3689e+01,  1.5365e+01,  5.2611e+00,  1.6054e+01,\n",
            "         -6.2722e+01, -1.8139e+01,  2.9094e+00,  2.0412e+01, -1.7706e+01,\n",
            "          1.1833e+02,  1.4524e+01, -1.1807e+01, -1.3351e+01, -4.0546e+00,\n",
            "          1.5019e-01,  1.5331e+00,  2.7005e+00,  5.0193e+00, -1.2891e+01,\n",
            "         -4.8636e+00,  1.5621e+00, -4.8186e-01,  1.5992e+01,  2.1542e+00,\n",
            "          1.0782e+00, -3.5851e+00, -4.7003e+00, -2.0427e+00,  5.7099e+00],\n",
            "        [ 1.2571e+00, -1.7990e+00,  3.4323e+00, -3.1032e+00,  7.1220e+00,\n",
            "         -3.1018e+00, -7.9241e+00,  4.2586e+00, -6.9132e+00,  1.8453e+00,\n",
            "         -6.4381e-01,  2.4150e+00, -1.3674e+01, -1.8030e+00,  1.3177e+01,\n",
            "          1.5418e+00, -2.4586e+00, -3.2372e-01, -5.3682e+00, -5.0031e+00,\n",
            "         -4.7839e+00,  6.7670e+00,  5.2509e+00, -5.0036e-01,  9.7793e+00,\n",
            "         -2.7265e+01, -9.9316e+00,  3.1088e+00,  7.3999e+00, -8.2936e+00,\n",
            "          5.1123e+01,  7.8845e+00, -2.1921e+00,  4.7197e+00, -1.8822e+00,\n",
            "         -3.9241e+00,  5.1761e+00,  3.9189e+00,  4.0701e+00, -5.8490e+00,\n",
            "         -1.9574e+00, -1.2734e+00, -3.5818e+00,  3.5001e+00, -3.7974e+00,\n",
            "          3.5916e-01, -2.0853e-01, -4.2896e-01, -1.1005e+00,  4.0544e+00],\n",
            "        [ 1.2547e+01,  1.0345e+01,  5.4465e+00, -9.2745e+00,  1.5139e+01,\n",
            "          4.1602e+00, -1.5730e+01, -5.0064e+00, -5.8208e+00,  1.6612e+00,\n",
            "         -1.5157e-01, -1.4435e+00, -1.4301e+00, -7.2982e+00,  2.6797e+01,\n",
            "          7.8119e+00,  4.1936e+00,  1.6222e+00, -1.2016e+01, -1.2945e+01,\n",
            "          1.2176e+00,  7.5624e+00,  1.6158e+01,  2.7713e+00,  8.2547e+00,\n",
            "         -4.8967e+01, -1.4101e+01, -6.3330e+00,  1.3060e+01, -9.2661e+00,\n",
            "          1.2420e+02,  1.4328e+01, -1.0711e+01, -1.0501e+01,  1.4969e+00,\n",
            "         -3.7297e+00,  3.4154e+00,  2.7699e+00,  1.2274e+00, -7.1594e+00,\n",
            "         -1.1357e+01, -1.8780e+00,  7.8576e+00,  9.1790e+00, -6.1810e+00,\n",
            "          2.4394e+00, -6.9610e+00, -6.5876e+00, -9.4815e+00,  3.9731e+00],\n",
            "        [ 1.3820e+00,  3.5008e-01,  3.6176e-01, -3.3732e+00,  4.4736e+00,\n",
            "         -2.1077e+00, -4.7196e+00,  2.5663e+00, -4.1096e+00,  4.9677e-01,\n",
            "         -1.3692e+00,  2.7011e+00, -5.2632e+00, -1.2975e+00,  7.9885e+00,\n",
            "          3.5651e+00,  1.4669e+00,  5.5740e-01, -3.7744e+00, -4.5193e+00,\n",
            "         -9.2551e-01,  4.5239e+00,  3.8358e+00,  5.3441e-01,  6.9742e+00,\n",
            "         -1.9063e+01, -6.4943e+00,  1.6344e+00,  4.4585e+00, -6.4678e+00,\n",
            "          3.1684e+01,  2.2712e+00, -4.6142e+00, -2.1537e+00, -1.0716e+00,\n",
            "         -2.5653e+00,  4.3317e+00,  1.3769e+00,  3.2379e+00, -3.0185e+00,\n",
            "         -1.5247e+00,  2.0132e-01, -2.1288e+00,  1.4566e+00,  1.2612e+00,\n",
            "          1.0464e+00, -4.9159e-01, -1.7850e+00, -2.0701e-01,  5.1029e+00]])\n"
          ]
        },
        {
          "output_type": "error",
          "ename": "RuntimeError",
          "evalue": "ignored",
          "traceback": [
            "\u001b[0;31m---------------------------------------------------------------------------\u001b[0m",
            "\u001b[0;31mRuntimeError\u001b[0m                              Traceback (most recent call last)",
            "\u001b[0;32m<ipython-input-45-fc501ffa4791>\u001b[0m in \u001b[0;36m<module>\u001b[0;34m\u001b[0m\n\u001b[1;32m      5\u001b[0m   \u001b[0mtrain_loader\u001b[0m \u001b[0;34m=\u001b[0m \u001b[0mPostBatcher\u001b[0m\u001b[0;34m(\u001b[0m\u001b[0mtrain\u001b[0m\u001b[0;34m[\u001b[0m\u001b[0mfeature\u001b[0m\u001b[0;34m]\u001b[0m\u001b[0;34m,\u001b[0m \u001b[0mdrop_last\u001b[0m\u001b[0;34m=\u001b[0m\u001b[0;32mTrue\u001b[0m\u001b[0;34m)\u001b[0m\u001b[0;34m\u001b[0m\u001b[0;34m\u001b[0m\u001b[0m\n\u001b[1;32m      6\u001b[0m   \u001b[0mvalid_loader\u001b[0m \u001b[0;34m=\u001b[0m \u001b[0mPostBatcher\u001b[0m\u001b[0;34m(\u001b[0m\u001b[0mvalid\u001b[0m\u001b[0;34m[\u001b[0m\u001b[0mfeature\u001b[0m\u001b[0;34m]\u001b[0m\u001b[0;34m,\u001b[0m \u001b[0mdrop_last\u001b[0m\u001b[0;34m=\u001b[0m\u001b[0;32mTrue\u001b[0m\u001b[0;34m)\u001b[0m\u001b[0;34m\u001b[0m\u001b[0;34m\u001b[0m\u001b[0m\n\u001b[0;32m----> 7\u001b[0;31m   \u001b[0mtrain_rnn_network\u001b[0m\u001b[0;34m(\u001b[0m\u001b[0mmodels\u001b[0m\u001b[0;34m[\u001b[0m\u001b[0mfeature\u001b[0m\u001b[0;34m]\u001b[0m\u001b[0;34m,\u001b[0m \u001b[0mtrain_loader\u001b[0m\u001b[0;34m,\u001b[0m \u001b[0mvalid_loader\u001b[0m\u001b[0;34m,\u001b[0m \u001b[0mnum_epochs\u001b[0m\u001b[0;34m=\u001b[0m\u001b[0;36m20\u001b[0m\u001b[0;34m,\u001b[0m \u001b[0mlearning_rate\u001b[0m\u001b[0;34m=\u001b[0m\u001b[0;36m2e-4\u001b[0m\u001b[0;34m)\u001b[0m\u001b[0;34m\u001b[0m\u001b[0;34m\u001b[0m\u001b[0m\n\u001b[0m\u001b[1;32m      8\u001b[0m   \u001b[0mtest_loader\u001b[0m \u001b[0;34m=\u001b[0m \u001b[0mPostBatcher\u001b[0m\u001b[0;34m(\u001b[0m\u001b[0mtest\u001b[0m\u001b[0;34m[\u001b[0m\u001b[0mfeature\u001b[0m\u001b[0;34m]\u001b[0m\u001b[0;34m,\u001b[0m \u001b[0mdrop_last\u001b[0m\u001b[0;34m=\u001b[0m\u001b[0;32mTrue\u001b[0m\u001b[0;34m)\u001b[0m\u001b[0;34m\u001b[0m\u001b[0;34m\u001b[0m\u001b[0m\n\u001b[1;32m      9\u001b[0m   \u001b[0mget_accuracy\u001b[0m\u001b[0;34m(\u001b[0m\u001b[0mmodels\u001b[0m\u001b[0;34m[\u001b[0m\u001b[0mfeature\u001b[0m\u001b[0;34m]\u001b[0m\u001b[0;34m,\u001b[0m \u001b[0mtest_loader\u001b[0m\u001b[0;34m)\u001b[0m\u001b[0;34m\u001b[0m\u001b[0;34m\u001b[0m\u001b[0m\n",
            "\u001b[0;32m<ipython-input-44-ea4064de20e7>\u001b[0m in \u001b[0;36mtrain_rnn_network\u001b[0;34m(model, train, valid, num_epochs, learning_rate)\u001b[0m\n\u001b[1;32m     12\u001b[0m             \u001b[0moptimizer\u001b[0m\u001b[0;34m.\u001b[0m\u001b[0mzero_grad\u001b[0m\u001b[0;34m(\u001b[0m\u001b[0;34m)\u001b[0m\u001b[0;34m\u001b[0m\u001b[0;34m\u001b[0m\u001b[0m\n\u001b[1;32m     13\u001b[0m             \u001b[0mprint\u001b[0m\u001b[0;34m(\u001b[0m\u001b[0mposts\u001b[0m\u001b[0;34m)\u001b[0m\u001b[0;34m\u001b[0m\u001b[0;34m\u001b[0m\u001b[0m\n\u001b[0;32m---> 14\u001b[0;31m             \u001b[0mtorch\u001b[0m\u001b[0;34m.\u001b[0m\u001b[0mtensor\u001b[0m\u001b[0;34m(\u001b[0m\u001b[0mtrain\u001b[0m\u001b[0;34m)\u001b[0m\u001b[0;34m.\u001b[0m\u001b[0mto\u001b[0m\u001b[0;34m(\u001b[0m\u001b[0mtorch\u001b[0m\u001b[0;34m.\u001b[0m\u001b[0mint64\u001b[0m\u001b[0;34m)\u001b[0m\u001b[0;34m\u001b[0m\u001b[0;34m\u001b[0m\u001b[0m\n\u001b[0m\u001b[1;32m     15\u001b[0m             \u001b[0mpred\u001b[0m \u001b[0;34m=\u001b[0m \u001b[0mmodel\u001b[0m\u001b[0;34m(\u001b[0m\u001b[0mposts\u001b[0m\u001b[0;34m)\u001b[0m\u001b[0;34m\u001b[0m\u001b[0;34m\u001b[0m\u001b[0m\n\u001b[1;32m     16\u001b[0m             \u001b[0mloss\u001b[0m \u001b[0;34m=\u001b[0m \u001b[0mcriterion\u001b[0m\u001b[0;34m(\u001b[0m\u001b[0mpred\u001b[0m\u001b[0;34m,\u001b[0m \u001b[0mlabels\u001b[0m\u001b[0;34m)\u001b[0m\u001b[0;34m\u001b[0m\u001b[0;34m\u001b[0m\u001b[0m\n",
            "\u001b[0;31mRuntimeError\u001b[0m: Could not infer dtype of PostBatcher"
          ]
        }
      ],
      "source": [
        "models = {}\n",
        "\n",
        "for feature in features:\n",
        "  models[feature] = MBTI_RNN(50, 50, 2)\n",
        "  train_loader = PostBatcher(train[feature], drop_last=True)\n",
        "  valid_loader = PostBatcher(valid[feature], drop_last=True)\n",
        "  train_rnn_network(models[feature], train_loader, valid_loader, num_epochs=20, learning_rate=2e-4)\n",
        "  test_loader = PostBatcher(test[feature], drop_last=True)\n",
        "  get_accuracy(models[feature], test_loader)"
      ]
    },
    {
      "cell_type": "markdown",
      "metadata": {
        "id": "TQkc-j2QdyBg"
      },
      "source": [
        "### Baseline Model"
      ]
    },
    {
      "cell_type": "code",
      "execution_count": null,
      "metadata": {
        "id": "NFWa--7XTMFh"
      },
      "outputs": [],
      "source": [
        "import torch\n",
        "import torchtext\n",
        "dimension=50"
      ]
    },
    {
      "cell_type": "code",
      "execution_count": null,
      "metadata": {
        "id": "1AXFiZ6aulw-",
        "colab": {
          "base_uri": "https://localhost:8080/"
        },
        "outputId": "bccfdbe1-47ba-4617-b4b5-34789427878e"
      },
      "outputs": [
        {
          "output_type": "stream",
          "name": "stderr",
          "text": [
            ".vector_cache/glove.6B.zip: 862MB [02:39, 5.40MB/s]                           \n",
            "100%|█████████▉| 399999/400000 [00:10<00:00, 37445.50it/s]\n"
          ]
        }
      ],
      "source": [
        "glove = torchtext.vocab.GloVe(name='6B', dim=dimension)"
      ]
    },
    {
      "cell_type": "code",
      "execution_count": null,
      "metadata": {
        "id": "HmeLjOfqXMA-"
      },
      "outputs": [],
      "source": [
        "df.head()"
      ]
    },
    {
      "cell_type": "code",
      "execution_count": null,
      "metadata": {
        "id": "DPCm_tPmfBRM"
      },
      "outputs": [],
      "source": [
        "df.tail()"
      ]
    },
    {
      "cell_type": "code",
      "execution_count": null,
      "metadata": {
        "id": "DrrC2N6Q5kdo"
      },
      "outputs": [],
      "source": [
        "features = ['I', 'S', 'T', 'J']\n",
        "\n",
        "for feature in features:\n",
        "  for i in range(len(train[feature])):\n",
        "    temp = torch.zeros(50)\n",
        "    for j in range(len(train[feature][i][0])):\n",
        "      temp += glove[glove.itos[train[feature][i][0][j]]]\n",
        "    train[feature][i] = (temp.numpy(), train[feature][i][1].item())\n",
        "\n",
        "for feature in features:\n",
        "  for i in range(len(valid[feature])):\n",
        "    temp = torch.zeros(50)\n",
        "    for j in range(len(valid[feature][i][0])):\n",
        "      temp += glove[glove.itos[valid[feature][i][0][j]]]\n",
        "    valid[feature][i] = (temp.numpy(), valid[feature][i][1].item())\n",
        "\n",
        "for feature in features:\n",
        "  for i in range(len(test[feature])):\n",
        "    temp = torch.zeros(50)\n",
        "    for j in range(len(test[feature][i][0])):\n",
        "      temp += glove[glove.itos[test[feature][i][0][j]]]\n",
        "    test[feature][i] = (temp.numpy(), test[feature][i][1].item())"
      ]
    },
    {
      "cell_type": "code",
      "execution_count": null,
      "metadata": {
        "id": "yNozdxSqAuCB"
      },
      "outputs": [],
      "source": [
        "X, y = {}, {}\n",
        "for feature in features:\n",
        "  for i in range(len(train[feature])):\n",
        "    if feature not in X:\n",
        "      X[feature] = []\n",
        "    if feature not in y:\n",
        "      y[feature] = []\n",
        "    X[feature].append(train[feature][i][0])\n",
        "    y[feature].append(train[feature][i][1])\n",
        "\n",
        "for feature in features:\n",
        "  for i in range(len(valid[feature])):\n",
        "    if feature not in X:\n",
        "      X[feature] = []\n",
        "    if feature not in y:\n",
        "      y[feature] = []\n",
        "    X[feature].append(valid[feature][i][0])\n",
        "    y[feature].append(valid[feature][i][1])"
      ]
    },
    {
      "cell_type": "code",
      "execution_count": null,
      "metadata": {
        "id": "bVGOyNPuQPBX"
      },
      "outputs": [],
      "source": [
        "from sklearn.svm import SVC\n",
        "from sklearn.model_selection import GridSearchCV"
      ]
    },
    {
      "cell_type": "code",
      "execution_count": null,
      "metadata": {
        "id": "P1JBsGODdHpN"
      },
      "outputs": [],
      "source": [
        "# Grid Search for hyperparameter\n",
        "param_grid = {\n",
        "    'C': [0.01, 1, 100], \n",
        "    'kernel': ['linear', 'rbf']\n",
        "}\n",
        "\n",
        "grids = {}"
      ]
    },
    {
      "cell_type": "code",
      "execution_count": null,
      "metadata": {
        "id": "bQpU1ajG2hsk"
      },
      "outputs": [],
      "source": [
        "\n",
        "\n",
        "for feature in features:\n",
        "  grids[feature] = GridSearchCV(SVC(), param_grid)\n",
        "\n",
        "  grids[feature].fit(X[feature],y[feature])\n",
        "\n",
        "  print(f'Best accuracy [{feature}]: ', grids[feature].best_score_)\n",
        "  print(f'Best hyperparameters [{feature}]: ', grids[feature].best_params_)\n",
        "  print()"
      ]
    },
    {
      "cell_type": "code",
      "execution_count": null,
      "metadata": {
        "id": "CunmYKnD0wnT"
      },
      "outputs": [],
      "source": [
        "feature = 'J'\n",
        "\n",
        "grids[feature] = GridSearchCV(SVC(), param_grid)\n",
        "\n",
        "grids[feature].fit(X[feature],y[feature])\n",
        "\n",
        "print(f'Best accuracy [{feature}]: ', grids[feature].best_score_)\n",
        "print(f'Best hyperparameters [{feature}]: ', grids[feature].best_params_)\n",
        "print()"
      ]
    },
    {
      "cell_type": "markdown",
      "source": [
        "# Demonstration"
      ],
      "metadata": {
        "id": "0flgk2iM6ijg"
      }
    },
    {
      "cell_type": "code",
      "source": [
        "def demoPost(model, post) :\n",
        "  categories = {0: \"Extroverted\", 1: \"Introverted\"}\n",
        "  proc = POST.process([POST.preprocess(post)])\n",
        "  proc = proc.to(device)\n",
        "\n",
        "  model.eval()\n",
        "  pred = model(proc)\n",
        "  print(\"Prediction:\", pred)\n",
        "  pred_category = categories[pred.argmax().item()] \n",
        "  return pred_category"
      ],
      "metadata": {
        "id": "UxyJwxv3f47s"
      },
      "execution_count": null,
      "outputs": []
    },
    {
      "cell_type": "code",
      "source": [
        "msg = \"Highly esteemed Mrs. Curie, Do not laugh at me for writing you without having anything sensible to say. But I am so enraged by the base manner in which the public is presently daring to concern itself with you that I absolutely must give vent to this feeling.\"\n",
        "demoPost(lstm_1, msg)"
      ],
      "metadata": {
        "colab": {
          "base_uri": "https://localhost:8080/"
        },
        "id": "rNwl5x1Igyin",
        "outputId": "44a8f378-73de-4a79-efde-6f35ba2ad205"
      },
      "execution_count": null,
      "outputs": [
        {
          "output_type": "stream",
          "name": "stdout",
          "text": [
            "Prediction: tensor([[ 0.0495, -0.0659]], grad_fn=<AddmmBackward>)\n"
          ]
        },
        {
          "output_type": "execute_result",
          "data": {
            "text/plain": [
              "'Extroverted'"
            ],
            "application/vnd.google.colaboratory.intrinsic+json": {
              "type": "string"
            }
          },
          "metadata": {},
          "execution_count": 57
        }
      ]
    }
  ],
  "metadata": {
    "colab": {
      "provenance": [],
      "collapsed_sections": [
        "TQkc-j2QdyBg"
      ],
      "include_colab_link": true
    },
    "kernelspec": {
      "display_name": "Python 3",
      "name": "python3"
    },
    "language_info": {
      "name": "python"
    }
  },
  "nbformat": 4,
  "nbformat_minor": 0
}